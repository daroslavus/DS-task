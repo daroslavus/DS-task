{
 "cells": [
  {
   "cell_type": "code",
   "execution_count": 303,
   "metadata": {},
   "outputs": [],
   "source": [
    "# 1.What interesting information user can find in the dataset?\n",
    "# -There’s information on 5 characteristic features (color, nose, body, palate, finish), age, place of origin (one of three ‘regions’ and 13 ‘districts’), and separate score for distillery and whisky\n",
    "# -Nearly all whiskies score above 60/100 – these are some good single malt whiskies\n",
    "# -Whisky age is traditionally considered one of the reported variables, but for this dataset whiskies closest to 10 years were selected on purpose. Some additional insights could be drawn from adding whisky age as a factor. Also, as a sanity check, no whisky is younger than 3yo, which is the minimum for a scotch\n"
   ]
  },
  {
   "cell_type": "code",
   "execution_count": 426,
   "metadata": {},
   "outputs": [],
   "source": [
    "# 2.Choose whisky name and find other whisky(-ies) which you might like as well; Please provide reasoning of your steps\n",
    "#My personal favourite is Lagavulin, which is very peaty and smokey. It is expected that whiskies like Ardberg and Laphroaig should be similar. This observation is grounded in experimental data obtained by living in Scotland for 4 years.\n",
    "#In order to test this hypothesis, t-Distributed Stochastic Neighbor Embedding (t-DSNE) was used to simplify the characteristic features in the dataset and visualize it on a 2D plane. The number of dimensions (61) is on the higher end of recommended value - PCA or TruncatedSVD could also be worth exploring to reduce the number of dimensions. This low-dimension visualization was then used to find whiskies possessing similar characteristics. \n",
    "#Dataset was cleaned by retaining only the taste characteristics and assigning individual names to each charactersitic (e.g. \"nose-sweet\")\n",
    "#t-DSNE code follows"
   ]
  },
  {
   "cell_type": "code",
   "execution_count": 427,
   "metadata": {},
   "outputs": [
    {
     "data": {
      "text/plain": [
       "(109, 65)"
      ]
     },
     "execution_count": 427,
     "metadata": {},
     "output_type": "execute_result"
    }
   ],
   "source": [
    "import pandas as pd\n",
    "#reading cleaned-up dataset\n",
    "df = pd.read_excel (r'C:\\Users\\Darek\\Desktop\\ScotchData\\ScotchData\\Scotch_data\\scotch_edited.xlsx')\n",
    "df.shape"
   ]
  },
  {
   "cell_type": "code",
   "execution_count": 428,
   "metadata": {},
   "outputs": [],
   "source": [
    "#dropping non-numeric values for TSNE\n",
    "non_numeric=['name','DISTRICT']\n",
    "df_numeric=df.drop(non_numeric,axis=1)\n",
    "from sklearn.manifold import TSNE\n",
    "m=TSNE(learning_rate=50)\n",
    "#learning rate usually 10-1000, assuming 50.For LR>10000 data clumps into ball with few outliers\n",
    "#Using default parameters of perplexity, early exaggeration factor, maximum number of iterations\n",
    "tsne_features = m.fit_transform(df_numeric)\n",
    "tsne_features[1:4,:]\n",
    "#Assigning back to dataframe\n",
    "df[\"x\"]=tsne_features[:,0]\n",
    "df[\"y\"]=tsne_features[:,1]"
   ]
  },
  {
   "cell_type": "code",
   "execution_count": 455,
   "metadata": {},
   "outputs": [
    {
     "data": {
      "application/vnd.plotly.v1+json": {
       "config": {
        "plotlyServerURL": "https://plot.ly"
       },
       "data": [
        {
         "hovertemplate": "x=%{x}<br>y=%{y}<br>name=%{text}<extra></extra>",
         "legendgroup": "",
         "marker": {
          "color": "#636efa",
          "symbol": "circle"
         },
         "mode": "markers+text",
         "name": "",
         "orientation": "v",
         "showlegend": false,
         "text": [
          "Aberfeldy",
          "Aberlour",
          "Ardberg",
          "Ardmore",
          "Auchentoshan",
          "Aultmore",
          "Balblair",
          "Balmenach",
          "Balvenie",
          "Banff",
          "Ben Nevis",
          "Benriach",
          "Benrinnes",
          "Benromach",
          "Bladnoch",
          "Blair Athol",
          "Bowmore",
          "Brackla",
          "Bruichladdich",
          "Bunnahabhain",
          "Caol Ila",
          "Caperdonich",
          "Cardhu",
          "Clynelish",
          "Coleburn",
          "Convalmore",
          "Cragganmore",
          "Craigellachie",
          "Dailuaine",
          "Dallas Dhu",
          "Dalmore",
          "Dalwhinnie",
          "Deanston",
          "Dufftown",
          "Edradour",
          "Fettercairn",
          "Glen  Albyn",
          "Glenallachie",
          "Glenburgie",
          "Glencadam",
          "Glen Deveron",
          "Glendronach",
          "Glendullan",
          "Glen Elgin",
          "Glenesk",
          "Glenfarclas",
          "Glenfiddich",
          "Glen Garioch",
          "Glenglassaugh",
          "Glengoyne",
          "Glen Grant",
          "Glen Keith",
          "Glenkinchie",
          "Glenlivet",
          "Glenlochy",
          "Glenlossie",
          "Glen Mhor",
          "Glenmorangie",
          "Glen Moray",
          "Glen Ordie",
          "Glenrothes",
          "Glen Scotia",
          "Glen Spey",
          "Glentauchers",
          "Glenturret",
          "Glenugie",
          "Glenury Royal",
          "Highland Park",
          "Imperial",
          "Inchgower",
          "Inchmurrin",
          "Inverleven",
          "Jura",
          "Kinclaith",
          "Knockando",
          "Knockdhu",
          "Ladyburn",
          "Lagavulin",
          "Laphroaig",
          "Linkwood",
          "Littlemill",
          "Lochnagar",
          "Lochside",
          "Longmorn",
          "Macallan",
          "Millburn",
          "Miltonduff",
          "Mortlach",
          "North Port",
          "Oban",
          "Port Ellen",
          "Pulteney",
          "Rosebank",
          "Saint Magdalene",
          "Scapa",
          "Singleton",
          "Speyburn",
          "Springbank",
          "Springbank-Longrow",
          "Strathisla",
          "Talisker",
          "Tamdhu",
          "Tamnavulin",
          "Teaninich",
          "Tobermory",
          "Tomatin",
          "Tomintoul",
          "Tormore",
          "Tullibardine"
         ],
         "type": "scatter",
         "x": [
          -0.7829968333244324,
          4.763575553894043,
          -5.168981075286865,
          3.4479215145111084,
          -3.883161783218384,
          -1.9329720735549927,
          -2.836282253265381,
          -0.01609131321310997,
          1.6104567050933838,
          1.983900547027588,
          -4.101558685302734,
          1.045358657836914,
          0.8821485638618469,
          3.415344476699829,
          -2.716850757598877,
          -2.4493050575256348,
          -5.344586372375488,
          3.9797463417053223,
          -5.461816787719727,
          -5.188232898712158,
          -4.202996730804443,
          1.6266236305236816,
          2.146700382232666,
          -3.533421754837036,
          -4.327914714813232,
          3.9055583477020264,
          -1.0419890880584717,
          2.326315402984619,
          2.786668539047241,
          5.179399013519287,
          4.611908435821533,
          3.491144895553589,
          -2.5571930408477783,
          4.672665596008301,
          -2.5968406200408936,
          -1.7645708322525024,
          4.128317832946777,
          -0.6478716731071472,
          -4.48105001449585,
          -2.750591993331909,
          -2.4047586917877197,
          2.536409378051758,
          -3.6322202682495117,
          2.0864193439483643,
          0.7886365652084351,
          -0.4242098033428192,
          -1.801479458808899,
          1.1164798736572266,
          -1.8924074172973633,
          -2.365265369415283,
          2.168462038040161,
          5.2851972579956055,
          -0.5180150866508484,
          -3.6709001064300537,
          -7.291269779205322,
          -3.653691530227661,
          -0.6530792117118835,
          -4.08746862411499,
          -1.8185006380081177,
          5.755810260772705,
          5.71554708480835,
          -0.356460303068161,
          -0.8719605803489685,
          -5.499897003173828,
          -0.7101004123687744,
          2.9682867527008057,
          0.9055029153823853,
          1.5284075736999512,
          2.565685987472534,
          1.1119920015335083,
          -5.169323921203613,
          -2.6806063652038574,
          0.43214452266693115,
          -1.2599118947982788,
          2.065871477127075,
          2.875509262084961,
          -5.911998271942139,
          -6.0660858154296875,
          -4.924461364746094,
          4.70181131362915,
          -0.9370829463005066,
          1.2692011594772339,
          3.249516487121582,
          -2.372133493423462,
          4.042214393615723,
          3.7686173915863037,
          -0.029313847422599792,
          5.002062797546387,
          1.0680140256881714,
          1.2381540536880493,
          0.36330005526542664,
          -4.635756492614746,
          -2.182384729385376,
          0.6717329025268555,
          -4.678802490234375,
          3.4930312633514404,
          -3.9451236724853516,
          -0.33055317401885986,
          -6.148149013519287,
          4.092556476593018,
          6.496824741363525,
          4.0062127113342285,
          -1.6655489206314087,
          1.9939073324203491,
          -0.18464694917201996,
          0.67366623878479,
          -1.059793472290039,
          6.150845527648926,
          -3.062267780303955
         ],
         "xaxis": "x",
         "y": [
          1.8482235670089722,
          0.9733660221099854,
          0.575604259967804,
          -2.1112005710601807,
          -2.09678053855896,
          -1.5832850933074951,
          -1.1818854808807373,
          -3.9396376609802246,
          -2.9649159908294678,
          -3.7377350330352783,
          -2.5280237197875977,
          -3.100768804550171,
          -2.3929529190063477,
          -6.208419322967529,
          2.858402729034424,
          -0.33552634716033936,
          0.6741960048675537,
          -1.5565522909164429,
          -1.0718576908111572,
          -0.7334519028663635,
          1.1377609968185425,
          -3.6648733615875244,
          -5.2036848068237305,
          0.37028834223747253,
          -3.8129711151123047,
          -1.0241888761520386,
          -2.9499847888946533,
          -3.1612043380737305,
          -1.911807656288147,
          -1.7518349885940552,
          2.9040839672088623,
          -6.562440395355225,
          -2.033775806427002,
          -5.151362895965576,
          1.1510905027389526,
          -5.6723222732543945,
          -4.374030590057373,
          -1.7698661088943481,
          -4.509843349456787,
          1.0875542163848877,
          -7.420722961425781,
          -1.392685890197754,
          -5.9079270362854,
          -4.173458099365234,
          -1.3526551723480225,
          -1.6303693056106567,
          -5.1784162521362305,
          1.529237985610962,
          -2.877588987350464,
          -7.660938262939453,
          -2.041518211364746,
          -2.4734690189361572,
          3.1634349822998047,
          -5.6777191162109375,
          0.29595696926116943,
          -6.593315124511719,
          -5.556004524230957,
          -0.5599151253700256,
          -2.8447604179382324,
          -0.6142276525497437,
          -0.07850947976112366,
          -8.412742614746094,
          -5.226069927215576,
          -5.32088041305542,
          -0.8006231188774109,
          2.3411099910736084,
          0.720112681388855,
          -0.7439548373222351,
          0.23101434111595154,
          -5.057515621185303,
          -2.8916938304901123,
          2.882584810256958,
          -6.661811828613281,
          0.8639445900917053,
          -6.766551971435547,
          -3.351928472518921,
          -4.051525115966797,
          2.1450929641723633,
          2.44400691986084,
          -3.740638017654419,
          0.8989282250404358,
          1.8502482175827026,
          2.0951240062713623,
          -3.2325594425201416,
          -0.45580512285232544,
          0.2858935296535492,
          -3.014202356338501,
          -1.5271254777908325,
          0.0011977464891970158,
          2.604905128479004,
          -4.727680683135986,
          -0.02016415074467659,
          -4.160707473754883,
          -0.13085302710533142,
          2.507542610168457,
          0.940285861492157,
          -3.950942277908325,
          -8.636756896972656,
          1.5474940538406372,
          -2.8978629112243652,
          -2.036256790161133,
          -4.312411308288574,
          -3.6570017337799072,
          0.22155451774597168,
          -6.201338291168213,
          -4.134432315826416,
          -3.6044301986694336,
          0.2352953851222992,
          -3.0813302993774414
         ],
         "yaxis": "y"
        }
       ],
       "layout": {
        "legend": {
         "tracegroupgap": 0
        },
        "margin": {
         "t": 60
        },
        "template": {
         "data": {
          "bar": [
           {
            "error_x": {
             "color": "#2a3f5f"
            },
            "error_y": {
             "color": "#2a3f5f"
            },
            "marker": {
             "line": {
              "color": "#E5ECF6",
              "width": 0.5
             }
            },
            "type": "bar"
           }
          ],
          "barpolar": [
           {
            "marker": {
             "line": {
              "color": "#E5ECF6",
              "width": 0.5
             }
            },
            "type": "barpolar"
           }
          ],
          "carpet": [
           {
            "aaxis": {
             "endlinecolor": "#2a3f5f",
             "gridcolor": "white",
             "linecolor": "white",
             "minorgridcolor": "white",
             "startlinecolor": "#2a3f5f"
            },
            "baxis": {
             "endlinecolor": "#2a3f5f",
             "gridcolor": "white",
             "linecolor": "white",
             "minorgridcolor": "white",
             "startlinecolor": "#2a3f5f"
            },
            "type": "carpet"
           }
          ],
          "choropleth": [
           {
            "colorbar": {
             "outlinewidth": 0,
             "ticks": ""
            },
            "type": "choropleth"
           }
          ],
          "contour": [
           {
            "colorbar": {
             "outlinewidth": 0,
             "ticks": ""
            },
            "colorscale": [
             [
              0,
              "#0d0887"
             ],
             [
              0.1111111111111111,
              "#46039f"
             ],
             [
              0.2222222222222222,
              "#7201a8"
             ],
             [
              0.3333333333333333,
              "#9c179e"
             ],
             [
              0.4444444444444444,
              "#bd3786"
             ],
             [
              0.5555555555555556,
              "#d8576b"
             ],
             [
              0.6666666666666666,
              "#ed7953"
             ],
             [
              0.7777777777777778,
              "#fb9f3a"
             ],
             [
              0.8888888888888888,
              "#fdca26"
             ],
             [
              1,
              "#f0f921"
             ]
            ],
            "type": "contour"
           }
          ],
          "contourcarpet": [
           {
            "colorbar": {
             "outlinewidth": 0,
             "ticks": ""
            },
            "type": "contourcarpet"
           }
          ],
          "heatmap": [
           {
            "colorbar": {
             "outlinewidth": 0,
             "ticks": ""
            },
            "colorscale": [
             [
              0,
              "#0d0887"
             ],
             [
              0.1111111111111111,
              "#46039f"
             ],
             [
              0.2222222222222222,
              "#7201a8"
             ],
             [
              0.3333333333333333,
              "#9c179e"
             ],
             [
              0.4444444444444444,
              "#bd3786"
             ],
             [
              0.5555555555555556,
              "#d8576b"
             ],
             [
              0.6666666666666666,
              "#ed7953"
             ],
             [
              0.7777777777777778,
              "#fb9f3a"
             ],
             [
              0.8888888888888888,
              "#fdca26"
             ],
             [
              1,
              "#f0f921"
             ]
            ],
            "type": "heatmap"
           }
          ],
          "heatmapgl": [
           {
            "colorbar": {
             "outlinewidth": 0,
             "ticks": ""
            },
            "colorscale": [
             [
              0,
              "#0d0887"
             ],
             [
              0.1111111111111111,
              "#46039f"
             ],
             [
              0.2222222222222222,
              "#7201a8"
             ],
             [
              0.3333333333333333,
              "#9c179e"
             ],
             [
              0.4444444444444444,
              "#bd3786"
             ],
             [
              0.5555555555555556,
              "#d8576b"
             ],
             [
              0.6666666666666666,
              "#ed7953"
             ],
             [
              0.7777777777777778,
              "#fb9f3a"
             ],
             [
              0.8888888888888888,
              "#fdca26"
             ],
             [
              1,
              "#f0f921"
             ]
            ],
            "type": "heatmapgl"
           }
          ],
          "histogram": [
           {
            "marker": {
             "colorbar": {
              "outlinewidth": 0,
              "ticks": ""
             }
            },
            "type": "histogram"
           }
          ],
          "histogram2d": [
           {
            "colorbar": {
             "outlinewidth": 0,
             "ticks": ""
            },
            "colorscale": [
             [
              0,
              "#0d0887"
             ],
             [
              0.1111111111111111,
              "#46039f"
             ],
             [
              0.2222222222222222,
              "#7201a8"
             ],
             [
              0.3333333333333333,
              "#9c179e"
             ],
             [
              0.4444444444444444,
              "#bd3786"
             ],
             [
              0.5555555555555556,
              "#d8576b"
             ],
             [
              0.6666666666666666,
              "#ed7953"
             ],
             [
              0.7777777777777778,
              "#fb9f3a"
             ],
             [
              0.8888888888888888,
              "#fdca26"
             ],
             [
              1,
              "#f0f921"
             ]
            ],
            "type": "histogram2d"
           }
          ],
          "histogram2dcontour": [
           {
            "colorbar": {
             "outlinewidth": 0,
             "ticks": ""
            },
            "colorscale": [
             [
              0,
              "#0d0887"
             ],
             [
              0.1111111111111111,
              "#46039f"
             ],
             [
              0.2222222222222222,
              "#7201a8"
             ],
             [
              0.3333333333333333,
              "#9c179e"
             ],
             [
              0.4444444444444444,
              "#bd3786"
             ],
             [
              0.5555555555555556,
              "#d8576b"
             ],
             [
              0.6666666666666666,
              "#ed7953"
             ],
             [
              0.7777777777777778,
              "#fb9f3a"
             ],
             [
              0.8888888888888888,
              "#fdca26"
             ],
             [
              1,
              "#f0f921"
             ]
            ],
            "type": "histogram2dcontour"
           }
          ],
          "mesh3d": [
           {
            "colorbar": {
             "outlinewidth": 0,
             "ticks": ""
            },
            "type": "mesh3d"
           }
          ],
          "parcoords": [
           {
            "line": {
             "colorbar": {
              "outlinewidth": 0,
              "ticks": ""
             }
            },
            "type": "parcoords"
           }
          ],
          "pie": [
           {
            "automargin": true,
            "type": "pie"
           }
          ],
          "scatter": [
           {
            "marker": {
             "colorbar": {
              "outlinewidth": 0,
              "ticks": ""
             }
            },
            "type": "scatter"
           }
          ],
          "scatter3d": [
           {
            "line": {
             "colorbar": {
              "outlinewidth": 0,
              "ticks": ""
             }
            },
            "marker": {
             "colorbar": {
              "outlinewidth": 0,
              "ticks": ""
             }
            },
            "type": "scatter3d"
           }
          ],
          "scattercarpet": [
           {
            "marker": {
             "colorbar": {
              "outlinewidth": 0,
              "ticks": ""
             }
            },
            "type": "scattercarpet"
           }
          ],
          "scattergeo": [
           {
            "marker": {
             "colorbar": {
              "outlinewidth": 0,
              "ticks": ""
             }
            },
            "type": "scattergeo"
           }
          ],
          "scattergl": [
           {
            "marker": {
             "colorbar": {
              "outlinewidth": 0,
              "ticks": ""
             }
            },
            "type": "scattergl"
           }
          ],
          "scattermapbox": [
           {
            "marker": {
             "colorbar": {
              "outlinewidth": 0,
              "ticks": ""
             }
            },
            "type": "scattermapbox"
           }
          ],
          "scatterpolar": [
           {
            "marker": {
             "colorbar": {
              "outlinewidth": 0,
              "ticks": ""
             }
            },
            "type": "scatterpolar"
           }
          ],
          "scatterpolargl": [
           {
            "marker": {
             "colorbar": {
              "outlinewidth": 0,
              "ticks": ""
             }
            },
            "type": "scatterpolargl"
           }
          ],
          "scatterternary": [
           {
            "marker": {
             "colorbar": {
              "outlinewidth": 0,
              "ticks": ""
             }
            },
            "type": "scatterternary"
           }
          ],
          "surface": [
           {
            "colorbar": {
             "outlinewidth": 0,
             "ticks": ""
            },
            "colorscale": [
             [
              0,
              "#0d0887"
             ],
             [
              0.1111111111111111,
              "#46039f"
             ],
             [
              0.2222222222222222,
              "#7201a8"
             ],
             [
              0.3333333333333333,
              "#9c179e"
             ],
             [
              0.4444444444444444,
              "#bd3786"
             ],
             [
              0.5555555555555556,
              "#d8576b"
             ],
             [
              0.6666666666666666,
              "#ed7953"
             ],
             [
              0.7777777777777778,
              "#fb9f3a"
             ],
             [
              0.8888888888888888,
              "#fdca26"
             ],
             [
              1,
              "#f0f921"
             ]
            ],
            "type": "surface"
           }
          ],
          "table": [
           {
            "cells": {
             "fill": {
              "color": "#EBF0F8"
             },
             "line": {
              "color": "white"
             }
            },
            "header": {
             "fill": {
              "color": "#C8D4E3"
             },
             "line": {
              "color": "white"
             }
            },
            "type": "table"
           }
          ]
         },
         "layout": {
          "annotationdefaults": {
           "arrowcolor": "#2a3f5f",
           "arrowhead": 0,
           "arrowwidth": 1
          },
          "autotypenumbers": "strict",
          "coloraxis": {
           "colorbar": {
            "outlinewidth": 0,
            "ticks": ""
           }
          },
          "colorscale": {
           "diverging": [
            [
             0,
             "#8e0152"
            ],
            [
             0.1,
             "#c51b7d"
            ],
            [
             0.2,
             "#de77ae"
            ],
            [
             0.3,
             "#f1b6da"
            ],
            [
             0.4,
             "#fde0ef"
            ],
            [
             0.5,
             "#f7f7f7"
            ],
            [
             0.6,
             "#e6f5d0"
            ],
            [
             0.7,
             "#b8e186"
            ],
            [
             0.8,
             "#7fbc41"
            ],
            [
             0.9,
             "#4d9221"
            ],
            [
             1,
             "#276419"
            ]
           ],
           "sequential": [
            [
             0,
             "#0d0887"
            ],
            [
             0.1111111111111111,
             "#46039f"
            ],
            [
             0.2222222222222222,
             "#7201a8"
            ],
            [
             0.3333333333333333,
             "#9c179e"
            ],
            [
             0.4444444444444444,
             "#bd3786"
            ],
            [
             0.5555555555555556,
             "#d8576b"
            ],
            [
             0.6666666666666666,
             "#ed7953"
            ],
            [
             0.7777777777777778,
             "#fb9f3a"
            ],
            [
             0.8888888888888888,
             "#fdca26"
            ],
            [
             1,
             "#f0f921"
            ]
           ],
           "sequentialminus": [
            [
             0,
             "#0d0887"
            ],
            [
             0.1111111111111111,
             "#46039f"
            ],
            [
             0.2222222222222222,
             "#7201a8"
            ],
            [
             0.3333333333333333,
             "#9c179e"
            ],
            [
             0.4444444444444444,
             "#bd3786"
            ],
            [
             0.5555555555555556,
             "#d8576b"
            ],
            [
             0.6666666666666666,
             "#ed7953"
            ],
            [
             0.7777777777777778,
             "#fb9f3a"
            ],
            [
             0.8888888888888888,
             "#fdca26"
            ],
            [
             1,
             "#f0f921"
            ]
           ]
          },
          "colorway": [
           "#636efa",
           "#EF553B",
           "#00cc96",
           "#ab63fa",
           "#FFA15A",
           "#19d3f3",
           "#FF6692",
           "#B6E880",
           "#FF97FF",
           "#FECB52"
          ],
          "font": {
           "color": "#2a3f5f"
          },
          "geo": {
           "bgcolor": "white",
           "lakecolor": "white",
           "landcolor": "#E5ECF6",
           "showlakes": true,
           "showland": true,
           "subunitcolor": "white"
          },
          "hoverlabel": {
           "align": "left"
          },
          "hovermode": "closest",
          "mapbox": {
           "style": "light"
          },
          "paper_bgcolor": "white",
          "plot_bgcolor": "#E5ECF6",
          "polar": {
           "angularaxis": {
            "gridcolor": "white",
            "linecolor": "white",
            "ticks": ""
           },
           "bgcolor": "#E5ECF6",
           "radialaxis": {
            "gridcolor": "white",
            "linecolor": "white",
            "ticks": ""
           }
          },
          "scene": {
           "xaxis": {
            "backgroundcolor": "#E5ECF6",
            "gridcolor": "white",
            "gridwidth": 2,
            "linecolor": "white",
            "showbackground": true,
            "ticks": "",
            "zerolinecolor": "white"
           },
           "yaxis": {
            "backgroundcolor": "#E5ECF6",
            "gridcolor": "white",
            "gridwidth": 2,
            "linecolor": "white",
            "showbackground": true,
            "ticks": "",
            "zerolinecolor": "white"
           },
           "zaxis": {
            "backgroundcolor": "#E5ECF6",
            "gridcolor": "white",
            "gridwidth": 2,
            "linecolor": "white",
            "showbackground": true,
            "ticks": "",
            "zerolinecolor": "white"
           }
          },
          "shapedefaults": {
           "line": {
            "color": "#2a3f5f"
           }
          },
          "ternary": {
           "aaxis": {
            "gridcolor": "white",
            "linecolor": "white",
            "ticks": ""
           },
           "baxis": {
            "gridcolor": "white",
            "linecolor": "white",
            "ticks": ""
           },
           "bgcolor": "#E5ECF6",
           "caxis": {
            "gridcolor": "white",
            "linecolor": "white",
            "ticks": ""
           }
          },
          "title": {
           "x": 0.05
          },
          "xaxis": {
           "automargin": true,
           "gridcolor": "white",
           "linecolor": "white",
           "ticks": "",
           "title": {
            "standoff": 15
           },
           "zerolinecolor": "white",
           "zerolinewidth": 2
          },
          "yaxis": {
           "automargin": true,
           "gridcolor": "white",
           "linecolor": "white",
           "ticks": "",
           "title": {
            "standoff": 15
           },
           "zerolinecolor": "white",
           "zerolinewidth": 2
          }
         }
        },
        "xaxis": {
         "anchor": "y",
         "domain": [
          0,
          1
         ],
         "title": {
          "text": "x"
         }
        },
        "yaxis": {
         "anchor": "x",
         "domain": [
          0,
          1
         ],
         "title": {
          "text": "y"
         }
        }
       }
      },
      "text/html": [
       "<div>                            <div id=\"6fcfb0dd-f1c4-414e-9750-d8e13ad2e60a\" class=\"plotly-graph-div\" style=\"height:525px; width:100%;\"></div>            <script type=\"text/javascript\">                require([\"plotly\"], function(Plotly) {                    window.PLOTLYENV=window.PLOTLYENV || {};                                    if (document.getElementById(\"6fcfb0dd-f1c4-414e-9750-d8e13ad2e60a\")) {                    Plotly.newPlot(                        \"6fcfb0dd-f1c4-414e-9750-d8e13ad2e60a\",                        [{\"hovertemplate\": \"x=%{x}<br>y=%{y}<br>name=%{text}<extra></extra>\", \"legendgroup\": \"\", \"marker\": {\"color\": \"#636efa\", \"symbol\": \"circle\"}, \"mode\": \"markers+text\", \"name\": \"\", \"orientation\": \"v\", \"showlegend\": false, \"text\": [\"Aberfeldy\", \"Aberlour\", \"Ardberg\", \"Ardmore\", \"Auchentoshan\", \"Aultmore\", \"Balblair\", \"Balmenach\", \"Balvenie\", \"Banff\", \"Ben Nevis\", \"Benriach\", \"Benrinnes\", \"Benromach\", \"Bladnoch\", \"Blair Athol\", \"Bowmore\", \"Brackla\", \"Bruichladdich\", \"Bunnahabhain\", \"Caol Ila\", \"Caperdonich\", \"Cardhu\", \"Clynelish\", \"Coleburn\", \"Convalmore\", \"Cragganmore\", \"Craigellachie\", \"Dailuaine\", \"Dallas Dhu\", \"Dalmore\", \"Dalwhinnie\", \"Deanston\", \"Dufftown\", \"Edradour\", \"Fettercairn\", \"Glen  Albyn\", \"Glenallachie\", \"Glenburgie\", \"Glencadam\", \"Glen Deveron\", \"Glendronach\", \"Glendullan\", \"Glen Elgin\", \"Glenesk\", \"Glenfarclas\", \"Glenfiddich\", \"Glen Garioch\", \"Glenglassaugh\", \"Glengoyne\", \"Glen Grant\", \"Glen Keith\", \"Glenkinchie\", \"Glenlivet\", \"Glenlochy\", \"Glenlossie\", \"Glen Mhor\", \"Glenmorangie\", \"Glen Moray\", \"Glen Ordie\", \"Glenrothes\", \"Glen Scotia\", \"Glen Spey\", \"Glentauchers\", \"Glenturret\", \"Glenugie\", \"Glenury Royal\", \"Highland Park\", \"Imperial\", \"Inchgower\", \"Inchmurrin\", \"Inverleven\", \"Jura\", \"Kinclaith\", \"Knockando\", \"Knockdhu\", \"Ladyburn\", \"Lagavulin\", \"Laphroaig\", \"Linkwood\", \"Littlemill\", \"Lochnagar\", \"Lochside\", \"Longmorn\", \"Macallan\", \"Millburn\", \"Miltonduff\", \"Mortlach\", \"North Port\", \"Oban\", \"Port Ellen\", \"Pulteney\", \"Rosebank\", \"Saint Magdalene\", \"Scapa\", \"Singleton\", \"Speyburn\", \"Springbank\", \"Springbank-Longrow\", \"Strathisla\", \"Talisker\", \"Tamdhu\", \"Tamnavulin\", \"Teaninich\", \"Tobermory\", \"Tomatin\", \"Tomintoul\", \"Tormore\", \"Tullibardine\"], \"type\": \"scatter\", \"x\": [-0.7829968333244324, 4.763575553894043, -5.168981075286865, 3.4479215145111084, -3.883161783218384, -1.9329720735549927, -2.836282253265381, -0.01609131321310997, 1.6104567050933838, 1.983900547027588, -4.101558685302734, 1.045358657836914, 0.8821485638618469, 3.415344476699829, -2.716850757598877, -2.4493050575256348, -5.344586372375488, 3.9797463417053223, -5.461816787719727, -5.188232898712158, -4.202996730804443, 1.6266236305236816, 2.146700382232666, -3.533421754837036, -4.327914714813232, 3.9055583477020264, -1.0419890880584717, 2.326315402984619, 2.786668539047241, 5.179399013519287, 4.611908435821533, 3.491144895553589, -2.5571930408477783, 4.672665596008301, -2.5968406200408936, -1.7645708322525024, 4.128317832946777, -0.6478716731071472, -4.48105001449585, -2.750591993331909, -2.4047586917877197, 2.536409378051758, -3.6322202682495117, 2.0864193439483643, 0.7886365652084351, -0.4242098033428192, -1.801479458808899, 1.1164798736572266, -1.8924074172973633, -2.365265369415283, 2.168462038040161, 5.2851972579956055, -0.5180150866508484, -3.6709001064300537, -7.291269779205322, -3.653691530227661, -0.6530792117118835, -4.08746862411499, -1.8185006380081177, 5.755810260772705, 5.71554708480835, -0.356460303068161, -0.8719605803489685, -5.499897003173828, -0.7101004123687744, 2.9682867527008057, 0.9055029153823853, 1.5284075736999512, 2.565685987472534, 1.1119920015335083, -5.169323921203613, -2.6806063652038574, 0.43214452266693115, -1.2599118947982788, 2.065871477127075, 2.875509262084961, -5.911998271942139, -6.0660858154296875, -4.924461364746094, 4.70181131362915, -0.9370829463005066, 1.2692011594772339, 3.249516487121582, -2.372133493423462, 4.042214393615723, 3.7686173915863037, -0.029313847422599792, 5.002062797546387, 1.0680140256881714, 1.2381540536880493, 0.36330005526542664, -4.635756492614746, -2.182384729385376, 0.6717329025268555, -4.678802490234375, 3.4930312633514404, -3.9451236724853516, -0.33055317401885986, -6.148149013519287, 4.092556476593018, 6.496824741363525, 4.0062127113342285, -1.6655489206314087, 1.9939073324203491, -0.18464694917201996, 0.67366623878479, -1.059793472290039, 6.150845527648926, -3.062267780303955], \"xaxis\": \"x\", \"y\": [1.8482235670089722, 0.9733660221099854, 0.575604259967804, -2.1112005710601807, -2.09678053855896, -1.5832850933074951, -1.1818854808807373, -3.9396376609802246, -2.9649159908294678, -3.7377350330352783, -2.5280237197875977, -3.100768804550171, -2.3929529190063477, -6.208419322967529, 2.858402729034424, -0.33552634716033936, 0.6741960048675537, -1.5565522909164429, -1.0718576908111572, -0.7334519028663635, 1.1377609968185425, -3.6648733615875244, -5.2036848068237305, 0.37028834223747253, -3.8129711151123047, -1.0241888761520386, -2.9499847888946533, -3.1612043380737305, -1.911807656288147, -1.7518349885940552, 2.9040839672088623, -6.562440395355225, -2.033775806427002, -5.151362895965576, 1.1510905027389526, -5.6723222732543945, -4.374030590057373, -1.7698661088943481, -4.509843349456787, 1.0875542163848877, -7.420722961425781, -1.392685890197754, -5.9079270362854, -4.173458099365234, -1.3526551723480225, -1.6303693056106567, -5.1784162521362305, 1.529237985610962, -2.877588987350464, -7.660938262939453, -2.041518211364746, -2.4734690189361572, 3.1634349822998047, -5.6777191162109375, 0.29595696926116943, -6.593315124511719, -5.556004524230957, -0.5599151253700256, -2.8447604179382324, -0.6142276525497437, -0.07850947976112366, -8.412742614746094, -5.226069927215576, -5.32088041305542, -0.8006231188774109, 2.3411099910736084, 0.720112681388855, -0.7439548373222351, 0.23101434111595154, -5.057515621185303, -2.8916938304901123, 2.882584810256958, -6.661811828613281, 0.8639445900917053, -6.766551971435547, -3.351928472518921, -4.051525115966797, 2.1450929641723633, 2.44400691986084, -3.740638017654419, 0.8989282250404358, 1.8502482175827026, 2.0951240062713623, -3.2325594425201416, -0.45580512285232544, 0.2858935296535492, -3.014202356338501, -1.5271254777908325, 0.0011977464891970158, 2.604905128479004, -4.727680683135986, -0.02016415074467659, -4.160707473754883, -0.13085302710533142, 2.507542610168457, 0.940285861492157, -3.950942277908325, -8.636756896972656, 1.5474940538406372, -2.8978629112243652, -2.036256790161133, -4.312411308288574, -3.6570017337799072, 0.22155451774597168, -6.201338291168213, -4.134432315826416, -3.6044301986694336, 0.2352953851222992, -3.0813302993774414], \"yaxis\": \"y\"}],                        {\"legend\": {\"tracegroupgap\": 0}, \"margin\": {\"t\": 60}, \"template\": {\"data\": {\"bar\": [{\"error_x\": {\"color\": \"#2a3f5f\"}, \"error_y\": {\"color\": \"#2a3f5f\"}, \"marker\": {\"line\": {\"color\": \"#E5ECF6\", \"width\": 0.5}}, \"type\": \"bar\"}], \"barpolar\": [{\"marker\": {\"line\": {\"color\": \"#E5ECF6\", \"width\": 0.5}}, \"type\": \"barpolar\"}], \"carpet\": [{\"aaxis\": {\"endlinecolor\": \"#2a3f5f\", \"gridcolor\": \"white\", \"linecolor\": \"white\", \"minorgridcolor\": \"white\", \"startlinecolor\": \"#2a3f5f\"}, \"baxis\": {\"endlinecolor\": \"#2a3f5f\", \"gridcolor\": \"white\", \"linecolor\": \"white\", \"minorgridcolor\": \"white\", \"startlinecolor\": \"#2a3f5f\"}, \"type\": \"carpet\"}], \"choropleth\": [{\"colorbar\": {\"outlinewidth\": 0, \"ticks\": \"\"}, \"type\": \"choropleth\"}], \"contour\": [{\"colorbar\": {\"outlinewidth\": 0, \"ticks\": \"\"}, \"colorscale\": [[0.0, \"#0d0887\"], [0.1111111111111111, \"#46039f\"], [0.2222222222222222, \"#7201a8\"], [0.3333333333333333, \"#9c179e\"], [0.4444444444444444, \"#bd3786\"], [0.5555555555555556, \"#d8576b\"], [0.6666666666666666, \"#ed7953\"], [0.7777777777777778, \"#fb9f3a\"], [0.8888888888888888, \"#fdca26\"], [1.0, \"#f0f921\"]], \"type\": \"contour\"}], \"contourcarpet\": [{\"colorbar\": {\"outlinewidth\": 0, \"ticks\": \"\"}, \"type\": \"contourcarpet\"}], \"heatmap\": [{\"colorbar\": {\"outlinewidth\": 0, \"ticks\": \"\"}, \"colorscale\": [[0.0, \"#0d0887\"], [0.1111111111111111, \"#46039f\"], [0.2222222222222222, \"#7201a8\"], [0.3333333333333333, \"#9c179e\"], [0.4444444444444444, \"#bd3786\"], [0.5555555555555556, \"#d8576b\"], [0.6666666666666666, \"#ed7953\"], [0.7777777777777778, \"#fb9f3a\"], [0.8888888888888888, \"#fdca26\"], [1.0, \"#f0f921\"]], \"type\": \"heatmap\"}], \"heatmapgl\": [{\"colorbar\": {\"outlinewidth\": 0, \"ticks\": \"\"}, \"colorscale\": [[0.0, \"#0d0887\"], [0.1111111111111111, \"#46039f\"], [0.2222222222222222, \"#7201a8\"], [0.3333333333333333, \"#9c179e\"], [0.4444444444444444, \"#bd3786\"], [0.5555555555555556, \"#d8576b\"], [0.6666666666666666, \"#ed7953\"], [0.7777777777777778, \"#fb9f3a\"], [0.8888888888888888, \"#fdca26\"], [1.0, \"#f0f921\"]], \"type\": \"heatmapgl\"}], \"histogram\": [{\"marker\": {\"colorbar\": {\"outlinewidth\": 0, \"ticks\": \"\"}}, \"type\": \"histogram\"}], \"histogram2d\": [{\"colorbar\": {\"outlinewidth\": 0, \"ticks\": \"\"}, \"colorscale\": [[0.0, \"#0d0887\"], [0.1111111111111111, \"#46039f\"], [0.2222222222222222, \"#7201a8\"], [0.3333333333333333, \"#9c179e\"], [0.4444444444444444, \"#bd3786\"], [0.5555555555555556, \"#d8576b\"], [0.6666666666666666, \"#ed7953\"], [0.7777777777777778, \"#fb9f3a\"], [0.8888888888888888, \"#fdca26\"], [1.0, \"#f0f921\"]], \"type\": \"histogram2d\"}], \"histogram2dcontour\": [{\"colorbar\": {\"outlinewidth\": 0, \"ticks\": \"\"}, \"colorscale\": [[0.0, \"#0d0887\"], [0.1111111111111111, \"#46039f\"], [0.2222222222222222, \"#7201a8\"], [0.3333333333333333, \"#9c179e\"], [0.4444444444444444, \"#bd3786\"], [0.5555555555555556, \"#d8576b\"], [0.6666666666666666, \"#ed7953\"], [0.7777777777777778, \"#fb9f3a\"], [0.8888888888888888, \"#fdca26\"], [1.0, \"#f0f921\"]], \"type\": \"histogram2dcontour\"}], \"mesh3d\": [{\"colorbar\": {\"outlinewidth\": 0, \"ticks\": \"\"}, \"type\": \"mesh3d\"}], \"parcoords\": [{\"line\": {\"colorbar\": {\"outlinewidth\": 0, \"ticks\": \"\"}}, \"type\": \"parcoords\"}], \"pie\": [{\"automargin\": true, \"type\": \"pie\"}], \"scatter\": [{\"marker\": {\"colorbar\": {\"outlinewidth\": 0, \"ticks\": \"\"}}, \"type\": \"scatter\"}], \"scatter3d\": [{\"line\": {\"colorbar\": {\"outlinewidth\": 0, \"ticks\": \"\"}}, \"marker\": {\"colorbar\": {\"outlinewidth\": 0, \"ticks\": \"\"}}, \"type\": \"scatter3d\"}], \"scattercarpet\": [{\"marker\": {\"colorbar\": {\"outlinewidth\": 0, \"ticks\": \"\"}}, \"type\": \"scattercarpet\"}], \"scattergeo\": [{\"marker\": {\"colorbar\": {\"outlinewidth\": 0, \"ticks\": \"\"}}, \"type\": \"scattergeo\"}], \"scattergl\": [{\"marker\": {\"colorbar\": {\"outlinewidth\": 0, \"ticks\": \"\"}}, \"type\": \"scattergl\"}], \"scattermapbox\": [{\"marker\": {\"colorbar\": {\"outlinewidth\": 0, \"ticks\": \"\"}}, \"type\": \"scattermapbox\"}], \"scatterpolar\": [{\"marker\": {\"colorbar\": {\"outlinewidth\": 0, \"ticks\": \"\"}}, \"type\": \"scatterpolar\"}], \"scatterpolargl\": [{\"marker\": {\"colorbar\": {\"outlinewidth\": 0, \"ticks\": \"\"}}, \"type\": \"scatterpolargl\"}], \"scatterternary\": [{\"marker\": {\"colorbar\": {\"outlinewidth\": 0, \"ticks\": \"\"}}, \"type\": \"scatterternary\"}], \"surface\": [{\"colorbar\": {\"outlinewidth\": 0, \"ticks\": \"\"}, \"colorscale\": [[0.0, \"#0d0887\"], [0.1111111111111111, \"#46039f\"], [0.2222222222222222, \"#7201a8\"], [0.3333333333333333, \"#9c179e\"], [0.4444444444444444, \"#bd3786\"], [0.5555555555555556, \"#d8576b\"], [0.6666666666666666, \"#ed7953\"], [0.7777777777777778, \"#fb9f3a\"], [0.8888888888888888, \"#fdca26\"], [1.0, \"#f0f921\"]], \"type\": \"surface\"}], \"table\": [{\"cells\": {\"fill\": {\"color\": \"#EBF0F8\"}, \"line\": {\"color\": \"white\"}}, \"header\": {\"fill\": {\"color\": \"#C8D4E3\"}, \"line\": {\"color\": \"white\"}}, \"type\": \"table\"}]}, \"layout\": {\"annotationdefaults\": {\"arrowcolor\": \"#2a3f5f\", \"arrowhead\": 0, \"arrowwidth\": 1}, \"autotypenumbers\": \"strict\", \"coloraxis\": {\"colorbar\": {\"outlinewidth\": 0, \"ticks\": \"\"}}, \"colorscale\": {\"diverging\": [[0, \"#8e0152\"], [0.1, \"#c51b7d\"], [0.2, \"#de77ae\"], [0.3, \"#f1b6da\"], [0.4, \"#fde0ef\"], [0.5, \"#f7f7f7\"], [0.6, \"#e6f5d0\"], [0.7, \"#b8e186\"], [0.8, \"#7fbc41\"], [0.9, \"#4d9221\"], [1, \"#276419\"]], \"sequential\": [[0.0, \"#0d0887\"], [0.1111111111111111, \"#46039f\"], [0.2222222222222222, \"#7201a8\"], [0.3333333333333333, \"#9c179e\"], [0.4444444444444444, \"#bd3786\"], [0.5555555555555556, \"#d8576b\"], [0.6666666666666666, \"#ed7953\"], [0.7777777777777778, \"#fb9f3a\"], [0.8888888888888888, \"#fdca26\"], [1.0, \"#f0f921\"]], \"sequentialminus\": [[0.0, \"#0d0887\"], [0.1111111111111111, \"#46039f\"], [0.2222222222222222, \"#7201a8\"], [0.3333333333333333, \"#9c179e\"], [0.4444444444444444, \"#bd3786\"], [0.5555555555555556, \"#d8576b\"], [0.6666666666666666, \"#ed7953\"], [0.7777777777777778, \"#fb9f3a\"], [0.8888888888888888, \"#fdca26\"], [1.0, \"#f0f921\"]]}, \"colorway\": [\"#636efa\", \"#EF553B\", \"#00cc96\", \"#ab63fa\", \"#FFA15A\", \"#19d3f3\", \"#FF6692\", \"#B6E880\", \"#FF97FF\", \"#FECB52\"], \"font\": {\"color\": \"#2a3f5f\"}, \"geo\": {\"bgcolor\": \"white\", \"lakecolor\": \"white\", \"landcolor\": \"#E5ECF6\", \"showlakes\": true, \"showland\": true, \"subunitcolor\": \"white\"}, \"hoverlabel\": {\"align\": \"left\"}, \"hovermode\": \"closest\", \"mapbox\": {\"style\": \"light\"}, \"paper_bgcolor\": \"white\", \"plot_bgcolor\": \"#E5ECF6\", \"polar\": {\"angularaxis\": {\"gridcolor\": \"white\", \"linecolor\": \"white\", \"ticks\": \"\"}, \"bgcolor\": \"#E5ECF6\", \"radialaxis\": {\"gridcolor\": \"white\", \"linecolor\": \"white\", \"ticks\": \"\"}}, \"scene\": {\"xaxis\": {\"backgroundcolor\": \"#E5ECF6\", \"gridcolor\": \"white\", \"gridwidth\": 2, \"linecolor\": \"white\", \"showbackground\": true, \"ticks\": \"\", \"zerolinecolor\": \"white\"}, \"yaxis\": {\"backgroundcolor\": \"#E5ECF6\", \"gridcolor\": \"white\", \"gridwidth\": 2, \"linecolor\": \"white\", \"showbackground\": true, \"ticks\": \"\", \"zerolinecolor\": \"white\"}, \"zaxis\": {\"backgroundcolor\": \"#E5ECF6\", \"gridcolor\": \"white\", \"gridwidth\": 2, \"linecolor\": \"white\", \"showbackground\": true, \"ticks\": \"\", \"zerolinecolor\": \"white\"}}, \"shapedefaults\": {\"line\": {\"color\": \"#2a3f5f\"}}, \"ternary\": {\"aaxis\": {\"gridcolor\": \"white\", \"linecolor\": \"white\", \"ticks\": \"\"}, \"baxis\": {\"gridcolor\": \"white\", \"linecolor\": \"white\", \"ticks\": \"\"}, \"bgcolor\": \"#E5ECF6\", \"caxis\": {\"gridcolor\": \"white\", \"linecolor\": \"white\", \"ticks\": \"\"}}, \"title\": {\"x\": 0.05}, \"xaxis\": {\"automargin\": true, \"gridcolor\": \"white\", \"linecolor\": \"white\", \"ticks\": \"\", \"title\": {\"standoff\": 15}, \"zerolinecolor\": \"white\", \"zerolinewidth\": 2}, \"yaxis\": {\"automargin\": true, \"gridcolor\": \"white\", \"linecolor\": \"white\", \"ticks\": \"\", \"title\": {\"standoff\": 15}, \"zerolinecolor\": \"white\", \"zerolinewidth\": 2}}}, \"xaxis\": {\"anchor\": \"y\", \"domain\": [0.0, 1.0], \"title\": {\"text\": \"x\"}}, \"yaxis\": {\"anchor\": \"x\", \"domain\": [0.0, 1.0], \"title\": {\"text\": \"y\"}}},                        {\"responsive\": true}                    ).then(function(){\n",
       "                            \n",
       "var gd = document.getElementById('6fcfb0dd-f1c4-414e-9750-d8e13ad2e60a');\n",
       "var x = new MutationObserver(function (mutations, observer) {{\n",
       "        var display = window.getComputedStyle(gd).display;\n",
       "        if (!display || display === 'none') {{\n",
       "            console.log([gd, 'removed!']);\n",
       "            Plotly.purge(gd);\n",
       "            observer.disconnect();\n",
       "        }}\n",
       "}});\n",
       "\n",
       "// Listen for the removal of the full notebook cells\n",
       "var notebookContainer = gd.closest('#notebook-container');\n",
       "if (notebookContainer) {{\n",
       "    x.observe(notebookContainer, {childList: true});\n",
       "}}\n",
       "\n",
       "// Listen for the clearing of the current output cell\n",
       "var outputEl = gd.closest('.output');\n",
       "if (outputEl) {{\n",
       "    x.observe(outputEl, {childList: true});\n",
       "}}\n",
       "\n",
       "                        })                };                });            </script>        </div>"
      ]
     },
     "metadata": {},
     "output_type": "display_data"
    }
   ],
   "source": [
    "#Plot the data colored by district \n",
    "import plotly.express as px\n",
    "fig = px.scatter(df, x=\"x\", y=\"y\", text=\"name\")\n",
    "fig.show()"
   ]
  },
  {
   "cell_type": "code",
   "execution_count": 430,
   "metadata": {},
   "outputs": [],
   "source": [
    "#The model was found to confirm the experiments, suggesting that well-known whiskies such as Laphroaig, Scapa, Ardberg and Bowmore are similar to Lagavulin. It also provided some interesting insights by suggesting Springbank-Lonrow as the closest to Lagavulin. This similarity is yet to be confirmed by experimental data.\n",
    "#It is interesting to see other popular whiskies such as Glenfiddich on the other side of the chart. Experiments confirm that these are indeed very different whiskies."
   ]
  },
  {
   "cell_type": "code",
   "execution_count": 431,
   "metadata": {},
   "outputs": [],
   "source": [
    "#3.\tHow chosen whisky(-ies) can be perceived vs. other types?\n",
    "#The selected whiskies were compared to other types by calculating average of a single characteristic within selected subgroup and comparing against the average for the remaining whiskies. "
   ]
  },
  {
   "cell_type": "code",
   "execution_count": 453,
   "metadata": {},
   "outputs": [
    {
     "data": {
      "application/vnd.plotly.v1+json": {
       "config": {
        "plotlyServerURL": "https://plot.ly"
       },
       "data": [
        {
         "name": "Selected",
         "type": "bar",
         "x": [
          "nose-aroma",
          "nose-peat",
          "nose-sweet",
          "nose-light",
          "nose-fresh",
          "nose-dry",
          "nose-fruit",
          "nose-grass",
          "nose-sea",
          "nose-sherry",
          "nose-spicy",
          "nose-rich",
          "body-soft",
          "body-med",
          "body-full",
          "body-round",
          "body-smooth",
          "body-light",
          "body-firm",
          "body-oily",
          "palate-full",
          "palate-dry",
          "palate-sherry",
          "palate-big",
          "palate-light",
          "palate-smooth",
          "palate-clean",
          "palate-fruit",
          "palate-grass",
          "palate-smoke",
          "palate-sweet",
          "palate-spice",
          "palate-oil",
          "palate-salt",
          "palate-arome",
          "finish-full",
          "finish-dry",
          "finish-warm",
          "finish-big",
          "finish-light",
          "finish-smooth",
          "finish-clean",
          "finish-fruit",
          "finish-grass",
          "finish-smoke",
          "finish-sweet",
          "finish-spice",
          "finish-oil",
          "finish-salt",
          "finish-arome",
          "finish-ling",
          "finish-long",
          "finish-very",
          "finish-quick",
          "DISTRICT-islay",
          "DISTRICT-midland",
          "DISTRICT-spey",
          "DISTRICT-east",
          "DISTRICT-west",
          "DISTRICT-north ",
          "DISTRICT-lowland",
          "DISTRICT-campbell",
          "DISTRICT-islands"
         ],
         "y": [
          -0.3904761904761905,
          0.01428571428571429,
          -0.42857142857142855,
          -0.13333333333333333,
          0.07857142857142857,
          -0.1023809523809524,
          -0.045238095238095244,
          0.2523809523809524,
          0.8380952380952381,
          0.24285714285714288,
          -0.047619047619047616,
          -0.1619047619047619,
          -0.2,
          0.14047619047619042,
          0.021428571428571436,
          0.13571428571428573,
          -0.41904761904761906,
          -0.5142857142857142,
          -0.26666666666666666,
          0.6071428571428572,
          -0.1619047619047619,
          0.10952380952380952,
          -0.09523809523809523,
          -0.06666666666666667,
          -0.13333333333333333,
          -0.12380952380952381,
          -0.14285714285714285,
          -0.37142857142857144,
          -0.19047619047619047,
          0.2142857142857143,
          -0.780952380952381,
          -0.21904761904761905,
          0.19285714285714287,
          0.6642857142857143,
          -0.10476190476190476,
          0.19285714285714287,
          0.3880952380952381,
          -0.18095238095238095,
          0.3761904761904762,
          -0.08571428571428572,
          -0.11428571428571428,
          -0.0761904761904762,
          -0.11428571428571428,
          -0.08571428571428572,
          0.059523809523809534,
          -0.17142857142857143,
          -0.13333333333333333,
          0.20238095238095238,
          0.44285714285714284,
          -0.06666666666666667,
          0.15476190476190477,
          -0.22857142857142856,
          -0.0380952380952381,
          -0.05714285714285714,
          0.4523809523809524,
          -0.05714285714285714,
          -0.5428571428571428,
          -0.09523809523809523,
          -0.047619047619047616,
          -0.06666666666666667,
          -0.08571428571428572,
          0.23095238095238096,
          0.2119047619047619,
          -5.48605452477932,
          4.36291766166687
         ]
        }
       ],
       "layout": {
        "template": {
         "data": {
          "bar": [
           {
            "error_x": {
             "color": "#2a3f5f"
            },
            "error_y": {
             "color": "#2a3f5f"
            },
            "marker": {
             "line": {
              "color": "#E5ECF6",
              "width": 0.5
             }
            },
            "type": "bar"
           }
          ],
          "barpolar": [
           {
            "marker": {
             "line": {
              "color": "#E5ECF6",
              "width": 0.5
             }
            },
            "type": "barpolar"
           }
          ],
          "carpet": [
           {
            "aaxis": {
             "endlinecolor": "#2a3f5f",
             "gridcolor": "white",
             "linecolor": "white",
             "minorgridcolor": "white",
             "startlinecolor": "#2a3f5f"
            },
            "baxis": {
             "endlinecolor": "#2a3f5f",
             "gridcolor": "white",
             "linecolor": "white",
             "minorgridcolor": "white",
             "startlinecolor": "#2a3f5f"
            },
            "type": "carpet"
           }
          ],
          "choropleth": [
           {
            "colorbar": {
             "outlinewidth": 0,
             "ticks": ""
            },
            "type": "choropleth"
           }
          ],
          "contour": [
           {
            "colorbar": {
             "outlinewidth": 0,
             "ticks": ""
            },
            "colorscale": [
             [
              0,
              "#0d0887"
             ],
             [
              0.1111111111111111,
              "#46039f"
             ],
             [
              0.2222222222222222,
              "#7201a8"
             ],
             [
              0.3333333333333333,
              "#9c179e"
             ],
             [
              0.4444444444444444,
              "#bd3786"
             ],
             [
              0.5555555555555556,
              "#d8576b"
             ],
             [
              0.6666666666666666,
              "#ed7953"
             ],
             [
              0.7777777777777778,
              "#fb9f3a"
             ],
             [
              0.8888888888888888,
              "#fdca26"
             ],
             [
              1,
              "#f0f921"
             ]
            ],
            "type": "contour"
           }
          ],
          "contourcarpet": [
           {
            "colorbar": {
             "outlinewidth": 0,
             "ticks": ""
            },
            "type": "contourcarpet"
           }
          ],
          "heatmap": [
           {
            "colorbar": {
             "outlinewidth": 0,
             "ticks": ""
            },
            "colorscale": [
             [
              0,
              "#0d0887"
             ],
             [
              0.1111111111111111,
              "#46039f"
             ],
             [
              0.2222222222222222,
              "#7201a8"
             ],
             [
              0.3333333333333333,
              "#9c179e"
             ],
             [
              0.4444444444444444,
              "#bd3786"
             ],
             [
              0.5555555555555556,
              "#d8576b"
             ],
             [
              0.6666666666666666,
              "#ed7953"
             ],
             [
              0.7777777777777778,
              "#fb9f3a"
             ],
             [
              0.8888888888888888,
              "#fdca26"
             ],
             [
              1,
              "#f0f921"
             ]
            ],
            "type": "heatmap"
           }
          ],
          "heatmapgl": [
           {
            "colorbar": {
             "outlinewidth": 0,
             "ticks": ""
            },
            "colorscale": [
             [
              0,
              "#0d0887"
             ],
             [
              0.1111111111111111,
              "#46039f"
             ],
             [
              0.2222222222222222,
              "#7201a8"
             ],
             [
              0.3333333333333333,
              "#9c179e"
             ],
             [
              0.4444444444444444,
              "#bd3786"
             ],
             [
              0.5555555555555556,
              "#d8576b"
             ],
             [
              0.6666666666666666,
              "#ed7953"
             ],
             [
              0.7777777777777778,
              "#fb9f3a"
             ],
             [
              0.8888888888888888,
              "#fdca26"
             ],
             [
              1,
              "#f0f921"
             ]
            ],
            "type": "heatmapgl"
           }
          ],
          "histogram": [
           {
            "marker": {
             "colorbar": {
              "outlinewidth": 0,
              "ticks": ""
             }
            },
            "type": "histogram"
           }
          ],
          "histogram2d": [
           {
            "colorbar": {
             "outlinewidth": 0,
             "ticks": ""
            },
            "colorscale": [
             [
              0,
              "#0d0887"
             ],
             [
              0.1111111111111111,
              "#46039f"
             ],
             [
              0.2222222222222222,
              "#7201a8"
             ],
             [
              0.3333333333333333,
              "#9c179e"
             ],
             [
              0.4444444444444444,
              "#bd3786"
             ],
             [
              0.5555555555555556,
              "#d8576b"
             ],
             [
              0.6666666666666666,
              "#ed7953"
             ],
             [
              0.7777777777777778,
              "#fb9f3a"
             ],
             [
              0.8888888888888888,
              "#fdca26"
             ],
             [
              1,
              "#f0f921"
             ]
            ],
            "type": "histogram2d"
           }
          ],
          "histogram2dcontour": [
           {
            "colorbar": {
             "outlinewidth": 0,
             "ticks": ""
            },
            "colorscale": [
             [
              0,
              "#0d0887"
             ],
             [
              0.1111111111111111,
              "#46039f"
             ],
             [
              0.2222222222222222,
              "#7201a8"
             ],
             [
              0.3333333333333333,
              "#9c179e"
             ],
             [
              0.4444444444444444,
              "#bd3786"
             ],
             [
              0.5555555555555556,
              "#d8576b"
             ],
             [
              0.6666666666666666,
              "#ed7953"
             ],
             [
              0.7777777777777778,
              "#fb9f3a"
             ],
             [
              0.8888888888888888,
              "#fdca26"
             ],
             [
              1,
              "#f0f921"
             ]
            ],
            "type": "histogram2dcontour"
           }
          ],
          "mesh3d": [
           {
            "colorbar": {
             "outlinewidth": 0,
             "ticks": ""
            },
            "type": "mesh3d"
           }
          ],
          "parcoords": [
           {
            "line": {
             "colorbar": {
              "outlinewidth": 0,
              "ticks": ""
             }
            },
            "type": "parcoords"
           }
          ],
          "pie": [
           {
            "automargin": true,
            "type": "pie"
           }
          ],
          "scatter": [
           {
            "marker": {
             "colorbar": {
              "outlinewidth": 0,
              "ticks": ""
             }
            },
            "type": "scatter"
           }
          ],
          "scatter3d": [
           {
            "line": {
             "colorbar": {
              "outlinewidth": 0,
              "ticks": ""
             }
            },
            "marker": {
             "colorbar": {
              "outlinewidth": 0,
              "ticks": ""
             }
            },
            "type": "scatter3d"
           }
          ],
          "scattercarpet": [
           {
            "marker": {
             "colorbar": {
              "outlinewidth": 0,
              "ticks": ""
             }
            },
            "type": "scattercarpet"
           }
          ],
          "scattergeo": [
           {
            "marker": {
             "colorbar": {
              "outlinewidth": 0,
              "ticks": ""
             }
            },
            "type": "scattergeo"
           }
          ],
          "scattergl": [
           {
            "marker": {
             "colorbar": {
              "outlinewidth": 0,
              "ticks": ""
             }
            },
            "type": "scattergl"
           }
          ],
          "scattermapbox": [
           {
            "marker": {
             "colorbar": {
              "outlinewidth": 0,
              "ticks": ""
             }
            },
            "type": "scattermapbox"
           }
          ],
          "scatterpolar": [
           {
            "marker": {
             "colorbar": {
              "outlinewidth": 0,
              "ticks": ""
             }
            },
            "type": "scatterpolar"
           }
          ],
          "scatterpolargl": [
           {
            "marker": {
             "colorbar": {
              "outlinewidth": 0,
              "ticks": ""
             }
            },
            "type": "scatterpolargl"
           }
          ],
          "scatterternary": [
           {
            "marker": {
             "colorbar": {
              "outlinewidth": 0,
              "ticks": ""
             }
            },
            "type": "scatterternary"
           }
          ],
          "surface": [
           {
            "colorbar": {
             "outlinewidth": 0,
             "ticks": ""
            },
            "colorscale": [
             [
              0,
              "#0d0887"
             ],
             [
              0.1111111111111111,
              "#46039f"
             ],
             [
              0.2222222222222222,
              "#7201a8"
             ],
             [
              0.3333333333333333,
              "#9c179e"
             ],
             [
              0.4444444444444444,
              "#bd3786"
             ],
             [
              0.5555555555555556,
              "#d8576b"
             ],
             [
              0.6666666666666666,
              "#ed7953"
             ],
             [
              0.7777777777777778,
              "#fb9f3a"
             ],
             [
              0.8888888888888888,
              "#fdca26"
             ],
             [
              1,
              "#f0f921"
             ]
            ],
            "type": "surface"
           }
          ],
          "table": [
           {
            "cells": {
             "fill": {
              "color": "#EBF0F8"
             },
             "line": {
              "color": "white"
             }
            },
            "header": {
             "fill": {
              "color": "#C8D4E3"
             },
             "line": {
              "color": "white"
             }
            },
            "type": "table"
           }
          ]
         },
         "layout": {
          "annotationdefaults": {
           "arrowcolor": "#2a3f5f",
           "arrowhead": 0,
           "arrowwidth": 1
          },
          "autotypenumbers": "strict",
          "coloraxis": {
           "colorbar": {
            "outlinewidth": 0,
            "ticks": ""
           }
          },
          "colorscale": {
           "diverging": [
            [
             0,
             "#8e0152"
            ],
            [
             0.1,
             "#c51b7d"
            ],
            [
             0.2,
             "#de77ae"
            ],
            [
             0.3,
             "#f1b6da"
            ],
            [
             0.4,
             "#fde0ef"
            ],
            [
             0.5,
             "#f7f7f7"
            ],
            [
             0.6,
             "#e6f5d0"
            ],
            [
             0.7,
             "#b8e186"
            ],
            [
             0.8,
             "#7fbc41"
            ],
            [
             0.9,
             "#4d9221"
            ],
            [
             1,
             "#276419"
            ]
           ],
           "sequential": [
            [
             0,
             "#0d0887"
            ],
            [
             0.1111111111111111,
             "#46039f"
            ],
            [
             0.2222222222222222,
             "#7201a8"
            ],
            [
             0.3333333333333333,
             "#9c179e"
            ],
            [
             0.4444444444444444,
             "#bd3786"
            ],
            [
             0.5555555555555556,
             "#d8576b"
            ],
            [
             0.6666666666666666,
             "#ed7953"
            ],
            [
             0.7777777777777778,
             "#fb9f3a"
            ],
            [
             0.8888888888888888,
             "#fdca26"
            ],
            [
             1,
             "#f0f921"
            ]
           ],
           "sequentialminus": [
            [
             0,
             "#0d0887"
            ],
            [
             0.1111111111111111,
             "#46039f"
            ],
            [
             0.2222222222222222,
             "#7201a8"
            ],
            [
             0.3333333333333333,
             "#9c179e"
            ],
            [
             0.4444444444444444,
             "#bd3786"
            ],
            [
             0.5555555555555556,
             "#d8576b"
            ],
            [
             0.6666666666666666,
             "#ed7953"
            ],
            [
             0.7777777777777778,
             "#fb9f3a"
            ],
            [
             0.8888888888888888,
             "#fdca26"
            ],
            [
             1,
             "#f0f921"
            ]
           ]
          },
          "colorway": [
           "#636efa",
           "#EF553B",
           "#00cc96",
           "#ab63fa",
           "#FFA15A",
           "#19d3f3",
           "#FF6692",
           "#B6E880",
           "#FF97FF",
           "#FECB52"
          ],
          "font": {
           "color": "#2a3f5f"
          },
          "geo": {
           "bgcolor": "white",
           "lakecolor": "white",
           "landcolor": "#E5ECF6",
           "showlakes": true,
           "showland": true,
           "subunitcolor": "white"
          },
          "hoverlabel": {
           "align": "left"
          },
          "hovermode": "closest",
          "mapbox": {
           "style": "light"
          },
          "paper_bgcolor": "white",
          "plot_bgcolor": "#E5ECF6",
          "polar": {
           "angularaxis": {
            "gridcolor": "white",
            "linecolor": "white",
            "ticks": ""
           },
           "bgcolor": "#E5ECF6",
           "radialaxis": {
            "gridcolor": "white",
            "linecolor": "white",
            "ticks": ""
           }
          },
          "scene": {
           "xaxis": {
            "backgroundcolor": "#E5ECF6",
            "gridcolor": "white",
            "gridwidth": 2,
            "linecolor": "white",
            "showbackground": true,
            "ticks": "",
            "zerolinecolor": "white"
           },
           "yaxis": {
            "backgroundcolor": "#E5ECF6",
            "gridcolor": "white",
            "gridwidth": 2,
            "linecolor": "white",
            "showbackground": true,
            "ticks": "",
            "zerolinecolor": "white"
           },
           "zaxis": {
            "backgroundcolor": "#E5ECF6",
            "gridcolor": "white",
            "gridwidth": 2,
            "linecolor": "white",
            "showbackground": true,
            "ticks": "",
            "zerolinecolor": "white"
           }
          },
          "shapedefaults": {
           "line": {
            "color": "#2a3f5f"
           }
          },
          "ternary": {
           "aaxis": {
            "gridcolor": "white",
            "linecolor": "white",
            "ticks": ""
           },
           "baxis": {
            "gridcolor": "white",
            "linecolor": "white",
            "ticks": ""
           },
           "bgcolor": "#E5ECF6",
           "caxis": {
            "gridcolor": "white",
            "linecolor": "white",
            "ticks": ""
           }
          },
          "title": {
           "x": 0.05
          },
          "xaxis": {
           "automargin": true,
           "gridcolor": "white",
           "linecolor": "white",
           "ticks": "",
           "title": {
            "standoff": 15
           },
           "zerolinecolor": "white",
           "zerolinewidth": 2
          },
          "yaxis": {
           "automargin": true,
           "gridcolor": "white",
           "linecolor": "white",
           "ticks": "",
           "title": {
            "standoff": 15
           },
           "zerolinecolor": "white",
           "zerolinewidth": 2
          }
         }
        }
       }
      },
      "text/html": [
       "<div>                            <div id=\"f95d3dd8-23d2-4f9f-8b74-11edbf740483\" class=\"plotly-graph-div\" style=\"height:525px; width:100%;\"></div>            <script type=\"text/javascript\">                require([\"plotly\"], function(Plotly) {                    window.PLOTLYENV=window.PLOTLYENV || {};                                    if (document.getElementById(\"f95d3dd8-23d2-4f9f-8b74-11edbf740483\")) {                    Plotly.newPlot(                        \"f95d3dd8-23d2-4f9f-8b74-11edbf740483\",                        [{\"name\": \"Selected\", \"type\": \"bar\", \"x\": [\"nose-aroma\", \"nose-peat\", \"nose-sweet\", \"nose-light\", \"nose-fresh\", \"nose-dry\", \"nose-fruit\", \"nose-grass\", \"nose-sea\", \"nose-sherry\", \"nose-spicy\", \"nose-rich\", \"body-soft\", \"body-med\", \"body-full\", \"body-round\", \"body-smooth\", \"body-light\", \"body-firm\", \"body-oily\", \"palate-full\", \"palate-dry\", \"palate-sherry\", \"palate-big\", \"palate-light\", \"palate-smooth\", \"palate-clean\", \"palate-fruit\", \"palate-grass\", \"palate-smoke\", \"palate-sweet\", \"palate-spice\", \"palate-oil\", \"palate-salt\", \"palate-arome\", \"finish-full\", \"finish-dry\", \"finish-warm\", \"finish-big\", \"finish-light\", \"finish-smooth\", \"finish-clean\", \"finish-fruit\", \"finish-grass\", \"finish-smoke\", \"finish-sweet\", \"finish-spice\", \"finish-oil\", \"finish-salt\", \"finish-arome\", \"finish-ling\", \"finish-long\", \"finish-very\", \"finish-quick\", \"DISTRICT-islay\", \"DISTRICT-midland\", \"DISTRICT-spey\", \"DISTRICT-east\", \"DISTRICT-west\", \"DISTRICT-north \", \"DISTRICT-lowland\", \"DISTRICT-campbell\", \"DISTRICT-islands\"], \"y\": [-0.3904761904761905, 0.01428571428571429, -0.42857142857142855, -0.13333333333333333, 0.07857142857142857, -0.1023809523809524, -0.045238095238095244, 0.2523809523809524, 0.8380952380952381, 0.24285714285714288, -0.047619047619047616, -0.1619047619047619, -0.2, 0.14047619047619042, 0.021428571428571436, 0.13571428571428573, -0.41904761904761906, -0.5142857142857142, -0.26666666666666666, 0.6071428571428572, -0.1619047619047619, 0.10952380952380952, -0.09523809523809523, -0.06666666666666667, -0.13333333333333333, -0.12380952380952381, -0.14285714285714285, -0.37142857142857144, -0.19047619047619047, 0.2142857142857143, -0.780952380952381, -0.21904761904761905, 0.19285714285714287, 0.6642857142857143, -0.10476190476190476, 0.19285714285714287, 0.3880952380952381, -0.18095238095238095, 0.3761904761904762, -0.08571428571428572, -0.11428571428571428, -0.0761904761904762, -0.11428571428571428, -0.08571428571428572, 0.059523809523809534, -0.17142857142857143, -0.13333333333333333, 0.20238095238095238, 0.44285714285714284, -0.06666666666666667, 0.15476190476190477, -0.22857142857142856, -0.0380952380952381, -0.05714285714285714, 0.4523809523809524, -0.05714285714285714, -0.5428571428571428, -0.09523809523809523, -0.047619047619047616, -0.06666666666666667, -0.08571428571428572, 0.23095238095238096, 0.2119047619047619, -5.48605452477932, 4.36291766166687]}],                        {\"template\": {\"data\": {\"bar\": [{\"error_x\": {\"color\": \"#2a3f5f\"}, \"error_y\": {\"color\": \"#2a3f5f\"}, \"marker\": {\"line\": {\"color\": \"#E5ECF6\", \"width\": 0.5}}, \"type\": \"bar\"}], \"barpolar\": [{\"marker\": {\"line\": {\"color\": \"#E5ECF6\", \"width\": 0.5}}, \"type\": \"barpolar\"}], \"carpet\": [{\"aaxis\": {\"endlinecolor\": \"#2a3f5f\", \"gridcolor\": \"white\", \"linecolor\": \"white\", \"minorgridcolor\": \"white\", \"startlinecolor\": \"#2a3f5f\"}, \"baxis\": {\"endlinecolor\": \"#2a3f5f\", \"gridcolor\": \"white\", \"linecolor\": \"white\", \"minorgridcolor\": \"white\", \"startlinecolor\": \"#2a3f5f\"}, \"type\": \"carpet\"}], \"choropleth\": [{\"colorbar\": {\"outlinewidth\": 0, \"ticks\": \"\"}, \"type\": \"choropleth\"}], \"contour\": [{\"colorbar\": {\"outlinewidth\": 0, \"ticks\": \"\"}, \"colorscale\": [[0.0, \"#0d0887\"], [0.1111111111111111, \"#46039f\"], [0.2222222222222222, \"#7201a8\"], [0.3333333333333333, \"#9c179e\"], [0.4444444444444444, \"#bd3786\"], [0.5555555555555556, \"#d8576b\"], [0.6666666666666666, \"#ed7953\"], [0.7777777777777778, \"#fb9f3a\"], [0.8888888888888888, \"#fdca26\"], [1.0, \"#f0f921\"]], \"type\": \"contour\"}], \"contourcarpet\": [{\"colorbar\": {\"outlinewidth\": 0, \"ticks\": \"\"}, \"type\": \"contourcarpet\"}], \"heatmap\": [{\"colorbar\": {\"outlinewidth\": 0, \"ticks\": \"\"}, \"colorscale\": [[0.0, \"#0d0887\"], [0.1111111111111111, \"#46039f\"], [0.2222222222222222, \"#7201a8\"], [0.3333333333333333, \"#9c179e\"], [0.4444444444444444, \"#bd3786\"], [0.5555555555555556, \"#d8576b\"], [0.6666666666666666, \"#ed7953\"], [0.7777777777777778, \"#fb9f3a\"], [0.8888888888888888, \"#fdca26\"], [1.0, \"#f0f921\"]], \"type\": \"heatmap\"}], \"heatmapgl\": [{\"colorbar\": {\"outlinewidth\": 0, \"ticks\": \"\"}, \"colorscale\": [[0.0, \"#0d0887\"], [0.1111111111111111, \"#46039f\"], [0.2222222222222222, \"#7201a8\"], [0.3333333333333333, \"#9c179e\"], [0.4444444444444444, \"#bd3786\"], [0.5555555555555556, \"#d8576b\"], [0.6666666666666666, \"#ed7953\"], [0.7777777777777778, \"#fb9f3a\"], [0.8888888888888888, \"#fdca26\"], [1.0, \"#f0f921\"]], \"type\": \"heatmapgl\"}], \"histogram\": [{\"marker\": {\"colorbar\": {\"outlinewidth\": 0, \"ticks\": \"\"}}, \"type\": \"histogram\"}], \"histogram2d\": [{\"colorbar\": {\"outlinewidth\": 0, \"ticks\": \"\"}, \"colorscale\": [[0.0, \"#0d0887\"], [0.1111111111111111, \"#46039f\"], [0.2222222222222222, \"#7201a8\"], [0.3333333333333333, \"#9c179e\"], [0.4444444444444444, \"#bd3786\"], [0.5555555555555556, \"#d8576b\"], [0.6666666666666666, \"#ed7953\"], [0.7777777777777778, \"#fb9f3a\"], [0.8888888888888888, \"#fdca26\"], [1.0, \"#f0f921\"]], \"type\": \"histogram2d\"}], \"histogram2dcontour\": [{\"colorbar\": {\"outlinewidth\": 0, \"ticks\": \"\"}, \"colorscale\": [[0.0, \"#0d0887\"], [0.1111111111111111, \"#46039f\"], [0.2222222222222222, \"#7201a8\"], [0.3333333333333333, \"#9c179e\"], [0.4444444444444444, \"#bd3786\"], [0.5555555555555556, \"#d8576b\"], [0.6666666666666666, \"#ed7953\"], [0.7777777777777778, \"#fb9f3a\"], [0.8888888888888888, \"#fdca26\"], [1.0, \"#f0f921\"]], \"type\": \"histogram2dcontour\"}], \"mesh3d\": [{\"colorbar\": {\"outlinewidth\": 0, \"ticks\": \"\"}, \"type\": \"mesh3d\"}], \"parcoords\": [{\"line\": {\"colorbar\": {\"outlinewidth\": 0, \"ticks\": \"\"}}, \"type\": \"parcoords\"}], \"pie\": [{\"automargin\": true, \"type\": \"pie\"}], \"scatter\": [{\"marker\": {\"colorbar\": {\"outlinewidth\": 0, \"ticks\": \"\"}}, \"type\": \"scatter\"}], \"scatter3d\": [{\"line\": {\"colorbar\": {\"outlinewidth\": 0, \"ticks\": \"\"}}, \"marker\": {\"colorbar\": {\"outlinewidth\": 0, \"ticks\": \"\"}}, \"type\": \"scatter3d\"}], \"scattercarpet\": [{\"marker\": {\"colorbar\": {\"outlinewidth\": 0, \"ticks\": \"\"}}, \"type\": \"scattercarpet\"}], \"scattergeo\": [{\"marker\": {\"colorbar\": {\"outlinewidth\": 0, \"ticks\": \"\"}}, \"type\": \"scattergeo\"}], \"scattergl\": [{\"marker\": {\"colorbar\": {\"outlinewidth\": 0, \"ticks\": \"\"}}, \"type\": \"scattergl\"}], \"scattermapbox\": [{\"marker\": {\"colorbar\": {\"outlinewidth\": 0, \"ticks\": \"\"}}, \"type\": \"scattermapbox\"}], \"scatterpolar\": [{\"marker\": {\"colorbar\": {\"outlinewidth\": 0, \"ticks\": \"\"}}, \"type\": \"scatterpolar\"}], \"scatterpolargl\": [{\"marker\": {\"colorbar\": {\"outlinewidth\": 0, \"ticks\": \"\"}}, \"type\": \"scatterpolargl\"}], \"scatterternary\": [{\"marker\": {\"colorbar\": {\"outlinewidth\": 0, \"ticks\": \"\"}}, \"type\": \"scatterternary\"}], \"surface\": [{\"colorbar\": {\"outlinewidth\": 0, \"ticks\": \"\"}, \"colorscale\": [[0.0, \"#0d0887\"], [0.1111111111111111, \"#46039f\"], [0.2222222222222222, \"#7201a8\"], [0.3333333333333333, \"#9c179e\"], [0.4444444444444444, \"#bd3786\"], [0.5555555555555556, \"#d8576b\"], [0.6666666666666666, \"#ed7953\"], [0.7777777777777778, \"#fb9f3a\"], [0.8888888888888888, \"#fdca26\"], [1.0, \"#f0f921\"]], \"type\": \"surface\"}], \"table\": [{\"cells\": {\"fill\": {\"color\": \"#EBF0F8\"}, \"line\": {\"color\": \"white\"}}, \"header\": {\"fill\": {\"color\": \"#C8D4E3\"}, \"line\": {\"color\": \"white\"}}, \"type\": \"table\"}]}, \"layout\": {\"annotationdefaults\": {\"arrowcolor\": \"#2a3f5f\", \"arrowhead\": 0, \"arrowwidth\": 1}, \"autotypenumbers\": \"strict\", \"coloraxis\": {\"colorbar\": {\"outlinewidth\": 0, \"ticks\": \"\"}}, \"colorscale\": {\"diverging\": [[0, \"#8e0152\"], [0.1, \"#c51b7d\"], [0.2, \"#de77ae\"], [0.3, \"#f1b6da\"], [0.4, \"#fde0ef\"], [0.5, \"#f7f7f7\"], [0.6, \"#e6f5d0\"], [0.7, \"#b8e186\"], [0.8, \"#7fbc41\"], [0.9, \"#4d9221\"], [1, \"#276419\"]], \"sequential\": [[0.0, \"#0d0887\"], [0.1111111111111111, \"#46039f\"], [0.2222222222222222, \"#7201a8\"], [0.3333333333333333, \"#9c179e\"], [0.4444444444444444, \"#bd3786\"], [0.5555555555555556, \"#d8576b\"], [0.6666666666666666, \"#ed7953\"], [0.7777777777777778, \"#fb9f3a\"], [0.8888888888888888, \"#fdca26\"], [1.0, \"#f0f921\"]], \"sequentialminus\": [[0.0, \"#0d0887\"], [0.1111111111111111, \"#46039f\"], [0.2222222222222222, \"#7201a8\"], [0.3333333333333333, \"#9c179e\"], [0.4444444444444444, \"#bd3786\"], [0.5555555555555556, \"#d8576b\"], [0.6666666666666666, \"#ed7953\"], [0.7777777777777778, \"#fb9f3a\"], [0.8888888888888888, \"#fdca26\"], [1.0, \"#f0f921\"]]}, \"colorway\": [\"#636efa\", \"#EF553B\", \"#00cc96\", \"#ab63fa\", \"#FFA15A\", \"#19d3f3\", \"#FF6692\", \"#B6E880\", \"#FF97FF\", \"#FECB52\"], \"font\": {\"color\": \"#2a3f5f\"}, \"geo\": {\"bgcolor\": \"white\", \"lakecolor\": \"white\", \"landcolor\": \"#E5ECF6\", \"showlakes\": true, \"showland\": true, \"subunitcolor\": \"white\"}, \"hoverlabel\": {\"align\": \"left\"}, \"hovermode\": \"closest\", \"mapbox\": {\"style\": \"light\"}, \"paper_bgcolor\": \"white\", \"plot_bgcolor\": \"#E5ECF6\", \"polar\": {\"angularaxis\": {\"gridcolor\": \"white\", \"linecolor\": \"white\", \"ticks\": \"\"}, \"bgcolor\": \"#E5ECF6\", \"radialaxis\": {\"gridcolor\": \"white\", \"linecolor\": \"white\", \"ticks\": \"\"}}, \"scene\": {\"xaxis\": {\"backgroundcolor\": \"#E5ECF6\", \"gridcolor\": \"white\", \"gridwidth\": 2, \"linecolor\": \"white\", \"showbackground\": true, \"ticks\": \"\", \"zerolinecolor\": \"white\"}, \"yaxis\": {\"backgroundcolor\": \"#E5ECF6\", \"gridcolor\": \"white\", \"gridwidth\": 2, \"linecolor\": \"white\", \"showbackground\": true, \"ticks\": \"\", \"zerolinecolor\": \"white\"}, \"zaxis\": {\"backgroundcolor\": \"#E5ECF6\", \"gridcolor\": \"white\", \"gridwidth\": 2, \"linecolor\": \"white\", \"showbackground\": true, \"ticks\": \"\", \"zerolinecolor\": \"white\"}}, \"shapedefaults\": {\"line\": {\"color\": \"#2a3f5f\"}}, \"ternary\": {\"aaxis\": {\"gridcolor\": \"white\", \"linecolor\": \"white\", \"ticks\": \"\"}, \"baxis\": {\"gridcolor\": \"white\", \"linecolor\": \"white\", \"ticks\": \"\"}, \"bgcolor\": \"#E5ECF6\", \"caxis\": {\"gridcolor\": \"white\", \"linecolor\": \"white\", \"ticks\": \"\"}}, \"title\": {\"x\": 0.05}, \"xaxis\": {\"automargin\": true, \"gridcolor\": \"white\", \"linecolor\": \"white\", \"ticks\": \"\", \"title\": {\"standoff\": 15}, \"zerolinecolor\": \"white\", \"zerolinewidth\": 2}, \"yaxis\": {\"automargin\": true, \"gridcolor\": \"white\", \"linecolor\": \"white\", \"ticks\": \"\", \"title\": {\"standoff\": 15}, \"zerolinecolor\": \"white\", \"zerolinewidth\": 2}}}},                        {\"responsive\": true}                    ).then(function(){\n",
       "                            \n",
       "var gd = document.getElementById('f95d3dd8-23d2-4f9f-8b74-11edbf740483');\n",
       "var x = new MutationObserver(function (mutations, observer) {{\n",
       "        var display = window.getComputedStyle(gd).display;\n",
       "        if (!display || display === 'none') {{\n",
       "            console.log([gd, 'removed!']);\n",
       "            Plotly.purge(gd);\n",
       "            observer.disconnect();\n",
       "        }}\n",
       "}});\n",
       "\n",
       "// Listen for the removal of the full notebook cells\n",
       "var notebookContainer = gd.closest('#notebook-container');\n",
       "if (notebookContainer) {{\n",
       "    x.observe(notebookContainer, {childList: true});\n",
       "}}\n",
       "\n",
       "// Listen for the clearing of the current output cell\n",
       "var outputEl = gd.closest('.output');\n",
       "if (outputEl) {{\n",
       "    x.observe(outputEl, {childList: true});\n",
       "}}\n",
       "\n",
       "                        })                };                });            </script>        </div>"
      ]
     },
     "metadata": {},
     "output_type": "display_data"
    }
   ],
   "source": [
    "selected_whisky=\"Lagavulin|Laphroaig|Scapa|Springbank-Longrow\"\n",
    "df_selection = df[df['name'].str.contains(selected_whisky)]\n",
    "df_remaining = df[~df['name'].str.contains(selected_whisky)]\n",
    "diff=df_selection.mean()-df_remaining.mean()\n",
    "\n",
    "import plotly.graph_objects as go\n",
    "categories=list(df_numeric.columns)\n",
    "\n",
    "fig = go.Figure(data=[\n",
    "    go.Bar(name='Selected', x=categories, y=diff),\n",
    "])\n",
    "fig.show()"
   ]
  },
  {
   "cell_type": "code",
   "execution_count": 390,
   "metadata": {},
   "outputs": [],
   "source": [
    "#It was found that the pronounced characteristics of the selected whiskies included:\n",
    "#-Sea aromas in the nose, \n",
    "#-Oily body\n",
    "#-Salt in palate and finish\n",
    "#This whisky characteristics can be expected from Islay and are not expected in whiskies from Spey\n",
    "#This type of whisky tends to be less sweet than others\n",
    "#Surprisingly, smoky palate was not indicated as a pronounced characteristic of the selected whiskies.\n"
   ]
  },
  {
   "cell_type": "code",
   "execution_count": 354,
   "metadata": {},
   "outputs": [
    {
     "data": {
      "application/vnd.plotly.v1+json": {
       "config": {
        "plotlyServerURL": "https://plot.ly"
       },
       "data": [
        {
         "hovertemplate": "DISTRICT=midland<br>x=%{x}<br>y=%{y}<extra></extra>",
         "legendgroup": "midland",
         "marker": {
          "color": "#636efa",
          "symbol": "circle"
         },
         "mode": "markers",
         "name": "midland",
         "orientation": "v",
         "showlegend": true,
         "type": "scatter",
         "x": [
          1.1964390277862549,
          -1.687856674194336,
          -3.763245105743408,
          2.9871840476989746,
          1.0353724956512451
         ],
         "xaxis": "x",
         "y": [
          6.953573703765869,
          -2.1702561378479004,
          0.25283679366111755,
          -1.841294765472412,
          -3.1536495685577393
         ],
         "yaxis": "y"
        },
        {
         "hovertemplate": "DISTRICT=spey<br>x=%{x}<br>y=%{y}<extra></extra>",
         "legendgroup": "spey",
         "marker": {
          "color": "#EF553B",
          "symbol": "circle"
         },
         "mode": "markers",
         "name": "spey",
         "orientation": "v",
         "showlegend": true,
         "type": "scatter",
         "x": [
          5.937198162078857,
          3.2316908836364746,
          -1.407874345779419,
          1.1843544244766235,
          -0.5027549862861633,
          -0.1671239137649536,
          -1.1037564277648926,
          -1.471657156944275,
          -3.2711472511291504,
          2.826693534851074,
          -1.1526453495025635,
          -1.870474934577942,
          0.5881524085998535,
          3.2349884510040283,
          1.2304328680038452,
          0.9734532833099365,
          2.2607405185699463,
          3.85960054397583,
          -1.8462072610855103,
          0.4582565128803253,
          0.9958310723304749,
          2.2247698307037354,
          1.6001073122024536,
          -0.8138777613639832,
          2.509852647781372,
          3.287461996078491,
          -0.36586466431617737,
          2.482468366622925,
          -1.8465577363967896,
          -0.47102487087249756,
          2.0491647720336914,
          3.7968428134918213,
          3.0566792488098145,
          3.0843212604522705,
          -0.7086063027381897,
          -0.3599669635295868,
          -2.699293851852417,
          -1.3068302869796753,
          3.3190789222717285,
          -1.7002359628677368,
          1.1659821271896362,
          -4.877797603607178,
          1.1253694295883179,
          2.046572208404541,
          0.40842169523239136,
          4.005340099334717,
          4.3910980224609375,
          0.3298587501049042,
          3.615933418273926,
          4.656342029571533,
          0.8856595754623413,
          4.886336326599121,
          1.2122876644134521,
          -0.0025163947138935328,
          1.0181589126586914,
          0.6814975142478943,
          -3.077637195587158
         ],
         "xaxis": "x",
         "y": [
          0.6414504647254944,
          -0.17072606086730957,
          -2.8592302799224854,
          -0.690712571144104,
          1.8751232624053955,
          1.279852271080017,
          1.3899633884429932,
          2.1438374519348145,
          3.1292102336883545,
          1.9146469831466675,
          1.2311506271362305,
          0.8952582478523254,
          -4.7576422691345215,
          1.4622973203659058,
          -2.071542501449585,
          0.972078263759613,
          1.1404047012329102,
          2.39335298538208,
          -5.471407413482666,
          2.425802707672119,
          3.0025060176849365,
          -1.7750426530838013,
          -4.180471897125244,
          5.176242828369141,
          0.7545880675315857,
          -3.3997020721435547,
          1.0038117170333862,
          -1.4868046045303345,
          -1.2954819202423096,
          -2.4815948009490967,
          2.051535129547119,
          3.039609670639038,
          -3.5145046710968018,
          -4.169771671295166,
          -0.4116113781929016,
          -2.5982489585876465,
          4.851001262664795,
          -0.4837990403175354,
          4.284283638000488,
          3.3528175354003906,
          0.0706774890422821,
          3.6322314739227295,
          1.2604142427444458,
          3.012913703918457,
          -2.9594781398773193,
          0.6985461711883545,
          -0.07868185639381409,
          -0.9550236463546753,
          2.298888683319092,
          -0.6802737712860107,
          -4.678934097290039,
          0.9849571585655212,
          3.035313129425049,
          -2.0698049068450928,
          0.24044644832611084,
          -1.8376762866973877,
          4.962001323699951
         ],
         "yaxis": "y"
        },
        {
         "hovertemplate": "DISTRICT=islay<br>x=%{x}<br>y=%{y}<extra></extra>",
         "legendgroup": "islay",
         "marker": {
          "color": "#00cc96",
          "symbol": "circle"
         },
         "mode": "markers",
         "name": "islay",
         "orientation": "v",
         "showlegend": true,
         "type": "scatter",
         "x": [
          -4.601154804229736,
          -4.769672870635986,
          -3.392010450363159,
          -3.7214159965515137,
          -4.493948459625244,
          -6.377598285675049,
          -5.830526828765869
         ],
         "xaxis": "x",
         "y": [
          -1.568430781364441,
          -1.5736095905303955,
          -1.9800419807434082,
          -2.2150990962982178,
          -0.7454447746276855,
          -1.5912641286849976,
          -2.668684244155884
         ],
         "yaxis": "y"
        },
        {
         "hovertemplate": "DISTRICT=lowland<br>x=%{x}<br>y=%{y}<extra></extra>",
         "legendgroup": "lowland",
         "marker": {
          "color": "#ab63fa",
          "symbol": "circle"
         },
         "mode": "markers",
         "name": "lowland",
         "orientation": "v",
         "showlegend": true,
         "type": "scatter",
         "x": [
          -0.9778494238853455,
          -6.011740207672119,
          -0.580607533454895,
          -6.026439189910889,
          1.0820120573043823,
          2.540994644165039,
          0.9880832433700562,
          -0.7547435760498047,
          -0.4279305636882782
         ],
         "xaxis": "x",
         "y": [
          -4.03699254989624,
          0.7187623977661133,
          6.442015171051025,
          0.7565092444419861,
          5.72559928894043,
          4.695494651794434,
          5.621944904327393,
          -1.7147679328918457,
          3.564814329147339
         ],
         "yaxis": "y"
        },
        {
         "hovertemplate": "DISTRICT=north<br>x=%{x}<br>y=%{y}<extra></extra>",
         "legendgroup": "north",
         "marker": {
          "color": "#FFA15A",
          "symbol": "circle"
         },
         "mode": "markers",
         "name": "north",
         "orientation": "v",
         "showlegend": true,
         "type": "scatter",
         "x": [
          -2.118377685546875,
          -3.3276679515838623,
          4.192645072937012,
          -3.5461654663085938,
          -2.270336627960205,
          -4.164999008178711,
          -1.600878119468689
         ],
         "xaxis": "x",
         "y": [
          -3.061195135116577,
          -4.324978351593018,
          -2.125180721282959,
          -3.8137128353118896,
          5.623687744140625,
          -3.315739870071411,
          3.302243232727051
         ],
         "yaxis": "y"
        },
        {
         "hovertemplate": "DISTRICT=west<br>x=%{x}<br>y=%{y}<extra></extra>",
         "legendgroup": "west",
         "marker": {
          "color": "#19d3f3",
          "symbol": "circle"
         },
         "mode": "markers",
         "name": "west",
         "orientation": "v",
         "showlegend": true,
         "type": "scatter",
         "x": [
          -0.4407654106616974,
          -0.7947818040847778,
          -4.421219825744629,
          -0.1504288613796234,
          5.135617733001709
         ],
         "xaxis": "x",
         "y": [
          -4.324787139892578,
          4.966278076171875,
          2.093404531478882,
          -5.547956943511963,
          -3.6130805015563965
         ],
         "yaxis": "y"
        },
        {
         "hovertemplate": "DISTRICT=mainland<br>x=%{x}<br>y=%{y}<extra></extra>",
         "legendgroup": "mainland",
         "marker": {
          "color": "#FF6692",
          "symbol": "circle"
         },
         "mode": "markers",
         "name": "mainland",
         "orientation": "v",
         "showlegend": true,
         "type": "scatter",
         "x": [
          2.903810739517212
         ],
         "xaxis": "x",
         "y": [
          5.991585731506348
         ],
         "yaxis": "y"
        },
        {
         "hovertemplate": "DISTRICT=east<br>x=%{x}<br>y=%{y}<extra></extra>",
         "legendgroup": "east",
         "marker": {
          "color": "#B6E880",
          "symbol": "circle"
         },
         "mode": "markers",
         "name": "east",
         "orientation": "v",
         "showlegend": true,
         "type": "scatter",
         "x": [
          -1.8955626487731934,
          -3.5233147144317627,
          0.2973860204219818,
          -2.5760059356689453,
          5.856387615203857,
          -2.5892953872680664,
          -2.682682752609253,
          5.534019470214844,
          -0.6388442516326904,
          5.2207417488098145
         ],
         "xaxis": "x",
         "y": [
          -0.8586612939834595,
          0.15417250990867615,
          4.23187780380249,
          1.7604427337646484,
          -1.1361665725708008,
          2.6716911792755127,
          1.6999602317810059,
          -1.0195032358169556,
          3.445150375366211,
          4.561187267303467
         ],
         "yaxis": "y"
        },
        {
         "hovertemplate": "DISTRICT=campbell<br>x=%{x}<br>y=%{y}<extra></extra>",
         "legendgroup": "campbell",
         "marker": {
          "color": "#FF97FF",
          "symbol": "circle"
         },
         "mode": "markers",
         "name": "campbell",
         "orientation": "v",
         "showlegend": true,
         "type": "scatter",
         "x": [
          -5.565891265869141,
          -5.681069850921631,
          -5.9535040855407715
         ],
         "xaxis": "x",
         "y": [
          -4.315311908721924,
          -4.654380798339844,
          -1.3466094732284546
         ],
         "yaxis": "y"
        },
        {
         "hovertemplate": "DISTRICT=islands<br>x=%{x}<br>y=%{y}<extra></extra>",
         "legendgroup": "islands",
         "marker": {
          "color": "#FECB52",
          "symbol": "circle"
         },
         "mode": "markers",
         "name": "islands",
         "orientation": "v",
         "showlegend": true,
         "type": "scatter",
         "x": [
          2.2122700214385986,
          1.4400384426116943,
          -5.744322299957275,
          5.206760883331299,
          -0.40800952911376953
         ],
         "xaxis": "x",
         "y": [
          -0.03676633536815643,
          4.127336025238037,
          -2.982848644256592,
          2.473041534423828,
          -0.1538413166999817
         ],
         "yaxis": "y"
        }
       ],
       "layout": {
        "legend": {
         "title": {
          "text": "DISTRICT"
         },
         "tracegroupgap": 0
        },
        "margin": {
         "t": 60
        },
        "template": {
         "data": {
          "bar": [
           {
            "error_x": {
             "color": "#2a3f5f"
            },
            "error_y": {
             "color": "#2a3f5f"
            },
            "marker": {
             "line": {
              "color": "#E5ECF6",
              "width": 0.5
             }
            },
            "type": "bar"
           }
          ],
          "barpolar": [
           {
            "marker": {
             "line": {
              "color": "#E5ECF6",
              "width": 0.5
             }
            },
            "type": "barpolar"
           }
          ],
          "carpet": [
           {
            "aaxis": {
             "endlinecolor": "#2a3f5f",
             "gridcolor": "white",
             "linecolor": "white",
             "minorgridcolor": "white",
             "startlinecolor": "#2a3f5f"
            },
            "baxis": {
             "endlinecolor": "#2a3f5f",
             "gridcolor": "white",
             "linecolor": "white",
             "minorgridcolor": "white",
             "startlinecolor": "#2a3f5f"
            },
            "type": "carpet"
           }
          ],
          "choropleth": [
           {
            "colorbar": {
             "outlinewidth": 0,
             "ticks": ""
            },
            "type": "choropleth"
           }
          ],
          "contour": [
           {
            "colorbar": {
             "outlinewidth": 0,
             "ticks": ""
            },
            "colorscale": [
             [
              0,
              "#0d0887"
             ],
             [
              0.1111111111111111,
              "#46039f"
             ],
             [
              0.2222222222222222,
              "#7201a8"
             ],
             [
              0.3333333333333333,
              "#9c179e"
             ],
             [
              0.4444444444444444,
              "#bd3786"
             ],
             [
              0.5555555555555556,
              "#d8576b"
             ],
             [
              0.6666666666666666,
              "#ed7953"
             ],
             [
              0.7777777777777778,
              "#fb9f3a"
             ],
             [
              0.8888888888888888,
              "#fdca26"
             ],
             [
              1,
              "#f0f921"
             ]
            ],
            "type": "contour"
           }
          ],
          "contourcarpet": [
           {
            "colorbar": {
             "outlinewidth": 0,
             "ticks": ""
            },
            "type": "contourcarpet"
           }
          ],
          "heatmap": [
           {
            "colorbar": {
             "outlinewidth": 0,
             "ticks": ""
            },
            "colorscale": [
             [
              0,
              "#0d0887"
             ],
             [
              0.1111111111111111,
              "#46039f"
             ],
             [
              0.2222222222222222,
              "#7201a8"
             ],
             [
              0.3333333333333333,
              "#9c179e"
             ],
             [
              0.4444444444444444,
              "#bd3786"
             ],
             [
              0.5555555555555556,
              "#d8576b"
             ],
             [
              0.6666666666666666,
              "#ed7953"
             ],
             [
              0.7777777777777778,
              "#fb9f3a"
             ],
             [
              0.8888888888888888,
              "#fdca26"
             ],
             [
              1,
              "#f0f921"
             ]
            ],
            "type": "heatmap"
           }
          ],
          "heatmapgl": [
           {
            "colorbar": {
             "outlinewidth": 0,
             "ticks": ""
            },
            "colorscale": [
             [
              0,
              "#0d0887"
             ],
             [
              0.1111111111111111,
              "#46039f"
             ],
             [
              0.2222222222222222,
              "#7201a8"
             ],
             [
              0.3333333333333333,
              "#9c179e"
             ],
             [
              0.4444444444444444,
              "#bd3786"
             ],
             [
              0.5555555555555556,
              "#d8576b"
             ],
             [
              0.6666666666666666,
              "#ed7953"
             ],
             [
              0.7777777777777778,
              "#fb9f3a"
             ],
             [
              0.8888888888888888,
              "#fdca26"
             ],
             [
              1,
              "#f0f921"
             ]
            ],
            "type": "heatmapgl"
           }
          ],
          "histogram": [
           {
            "marker": {
             "colorbar": {
              "outlinewidth": 0,
              "ticks": ""
             }
            },
            "type": "histogram"
           }
          ],
          "histogram2d": [
           {
            "colorbar": {
             "outlinewidth": 0,
             "ticks": ""
            },
            "colorscale": [
             [
              0,
              "#0d0887"
             ],
             [
              0.1111111111111111,
              "#46039f"
             ],
             [
              0.2222222222222222,
              "#7201a8"
             ],
             [
              0.3333333333333333,
              "#9c179e"
             ],
             [
              0.4444444444444444,
              "#bd3786"
             ],
             [
              0.5555555555555556,
              "#d8576b"
             ],
             [
              0.6666666666666666,
              "#ed7953"
             ],
             [
              0.7777777777777778,
              "#fb9f3a"
             ],
             [
              0.8888888888888888,
              "#fdca26"
             ],
             [
              1,
              "#f0f921"
             ]
            ],
            "type": "histogram2d"
           }
          ],
          "histogram2dcontour": [
           {
            "colorbar": {
             "outlinewidth": 0,
             "ticks": ""
            },
            "colorscale": [
             [
              0,
              "#0d0887"
             ],
             [
              0.1111111111111111,
              "#46039f"
             ],
             [
              0.2222222222222222,
              "#7201a8"
             ],
             [
              0.3333333333333333,
              "#9c179e"
             ],
             [
              0.4444444444444444,
              "#bd3786"
             ],
             [
              0.5555555555555556,
              "#d8576b"
             ],
             [
              0.6666666666666666,
              "#ed7953"
             ],
             [
              0.7777777777777778,
              "#fb9f3a"
             ],
             [
              0.8888888888888888,
              "#fdca26"
             ],
             [
              1,
              "#f0f921"
             ]
            ],
            "type": "histogram2dcontour"
           }
          ],
          "mesh3d": [
           {
            "colorbar": {
             "outlinewidth": 0,
             "ticks": ""
            },
            "type": "mesh3d"
           }
          ],
          "parcoords": [
           {
            "line": {
             "colorbar": {
              "outlinewidth": 0,
              "ticks": ""
             }
            },
            "type": "parcoords"
           }
          ],
          "pie": [
           {
            "automargin": true,
            "type": "pie"
           }
          ],
          "scatter": [
           {
            "marker": {
             "colorbar": {
              "outlinewidth": 0,
              "ticks": ""
             }
            },
            "type": "scatter"
           }
          ],
          "scatter3d": [
           {
            "line": {
             "colorbar": {
              "outlinewidth": 0,
              "ticks": ""
             }
            },
            "marker": {
             "colorbar": {
              "outlinewidth": 0,
              "ticks": ""
             }
            },
            "type": "scatter3d"
           }
          ],
          "scattercarpet": [
           {
            "marker": {
             "colorbar": {
              "outlinewidth": 0,
              "ticks": ""
             }
            },
            "type": "scattercarpet"
           }
          ],
          "scattergeo": [
           {
            "marker": {
             "colorbar": {
              "outlinewidth": 0,
              "ticks": ""
             }
            },
            "type": "scattergeo"
           }
          ],
          "scattergl": [
           {
            "marker": {
             "colorbar": {
              "outlinewidth": 0,
              "ticks": ""
             }
            },
            "type": "scattergl"
           }
          ],
          "scattermapbox": [
           {
            "marker": {
             "colorbar": {
              "outlinewidth": 0,
              "ticks": ""
             }
            },
            "type": "scattermapbox"
           }
          ],
          "scatterpolar": [
           {
            "marker": {
             "colorbar": {
              "outlinewidth": 0,
              "ticks": ""
             }
            },
            "type": "scatterpolar"
           }
          ],
          "scatterpolargl": [
           {
            "marker": {
             "colorbar": {
              "outlinewidth": 0,
              "ticks": ""
             }
            },
            "type": "scatterpolargl"
           }
          ],
          "scatterternary": [
           {
            "marker": {
             "colorbar": {
              "outlinewidth": 0,
              "ticks": ""
             }
            },
            "type": "scatterternary"
           }
          ],
          "surface": [
           {
            "colorbar": {
             "outlinewidth": 0,
             "ticks": ""
            },
            "colorscale": [
             [
              0,
              "#0d0887"
             ],
             [
              0.1111111111111111,
              "#46039f"
             ],
             [
              0.2222222222222222,
              "#7201a8"
             ],
             [
              0.3333333333333333,
              "#9c179e"
             ],
             [
              0.4444444444444444,
              "#bd3786"
             ],
             [
              0.5555555555555556,
              "#d8576b"
             ],
             [
              0.6666666666666666,
              "#ed7953"
             ],
             [
              0.7777777777777778,
              "#fb9f3a"
             ],
             [
              0.8888888888888888,
              "#fdca26"
             ],
             [
              1,
              "#f0f921"
             ]
            ],
            "type": "surface"
           }
          ],
          "table": [
           {
            "cells": {
             "fill": {
              "color": "#EBF0F8"
             },
             "line": {
              "color": "white"
             }
            },
            "header": {
             "fill": {
              "color": "#C8D4E3"
             },
             "line": {
              "color": "white"
             }
            },
            "type": "table"
           }
          ]
         },
         "layout": {
          "annotationdefaults": {
           "arrowcolor": "#2a3f5f",
           "arrowhead": 0,
           "arrowwidth": 1
          },
          "autotypenumbers": "strict",
          "coloraxis": {
           "colorbar": {
            "outlinewidth": 0,
            "ticks": ""
           }
          },
          "colorscale": {
           "diverging": [
            [
             0,
             "#8e0152"
            ],
            [
             0.1,
             "#c51b7d"
            ],
            [
             0.2,
             "#de77ae"
            ],
            [
             0.3,
             "#f1b6da"
            ],
            [
             0.4,
             "#fde0ef"
            ],
            [
             0.5,
             "#f7f7f7"
            ],
            [
             0.6,
             "#e6f5d0"
            ],
            [
             0.7,
             "#b8e186"
            ],
            [
             0.8,
             "#7fbc41"
            ],
            [
             0.9,
             "#4d9221"
            ],
            [
             1,
             "#276419"
            ]
           ],
           "sequential": [
            [
             0,
             "#0d0887"
            ],
            [
             0.1111111111111111,
             "#46039f"
            ],
            [
             0.2222222222222222,
             "#7201a8"
            ],
            [
             0.3333333333333333,
             "#9c179e"
            ],
            [
             0.4444444444444444,
             "#bd3786"
            ],
            [
             0.5555555555555556,
             "#d8576b"
            ],
            [
             0.6666666666666666,
             "#ed7953"
            ],
            [
             0.7777777777777778,
             "#fb9f3a"
            ],
            [
             0.8888888888888888,
             "#fdca26"
            ],
            [
             1,
             "#f0f921"
            ]
           ],
           "sequentialminus": [
            [
             0,
             "#0d0887"
            ],
            [
             0.1111111111111111,
             "#46039f"
            ],
            [
             0.2222222222222222,
             "#7201a8"
            ],
            [
             0.3333333333333333,
             "#9c179e"
            ],
            [
             0.4444444444444444,
             "#bd3786"
            ],
            [
             0.5555555555555556,
             "#d8576b"
            ],
            [
             0.6666666666666666,
             "#ed7953"
            ],
            [
             0.7777777777777778,
             "#fb9f3a"
            ],
            [
             0.8888888888888888,
             "#fdca26"
            ],
            [
             1,
             "#f0f921"
            ]
           ]
          },
          "colorway": [
           "#636efa",
           "#EF553B",
           "#00cc96",
           "#ab63fa",
           "#FFA15A",
           "#19d3f3",
           "#FF6692",
           "#B6E880",
           "#FF97FF",
           "#FECB52"
          ],
          "font": {
           "color": "#2a3f5f"
          },
          "geo": {
           "bgcolor": "white",
           "lakecolor": "white",
           "landcolor": "#E5ECF6",
           "showlakes": true,
           "showland": true,
           "subunitcolor": "white"
          },
          "hoverlabel": {
           "align": "left"
          },
          "hovermode": "closest",
          "mapbox": {
           "style": "light"
          },
          "paper_bgcolor": "white",
          "plot_bgcolor": "#E5ECF6",
          "polar": {
           "angularaxis": {
            "gridcolor": "white",
            "linecolor": "white",
            "ticks": ""
           },
           "bgcolor": "#E5ECF6",
           "radialaxis": {
            "gridcolor": "white",
            "linecolor": "white",
            "ticks": ""
           }
          },
          "scene": {
           "xaxis": {
            "backgroundcolor": "#E5ECF6",
            "gridcolor": "white",
            "gridwidth": 2,
            "linecolor": "white",
            "showbackground": true,
            "ticks": "",
            "zerolinecolor": "white"
           },
           "yaxis": {
            "backgroundcolor": "#E5ECF6",
            "gridcolor": "white",
            "gridwidth": 2,
            "linecolor": "white",
            "showbackground": true,
            "ticks": "",
            "zerolinecolor": "white"
           },
           "zaxis": {
            "backgroundcolor": "#E5ECF6",
            "gridcolor": "white",
            "gridwidth": 2,
            "linecolor": "white",
            "showbackground": true,
            "ticks": "",
            "zerolinecolor": "white"
           }
          },
          "shapedefaults": {
           "line": {
            "color": "#2a3f5f"
           }
          },
          "ternary": {
           "aaxis": {
            "gridcolor": "white",
            "linecolor": "white",
            "ticks": ""
           },
           "baxis": {
            "gridcolor": "white",
            "linecolor": "white",
            "ticks": ""
           },
           "bgcolor": "#E5ECF6",
           "caxis": {
            "gridcolor": "white",
            "linecolor": "white",
            "ticks": ""
           }
          },
          "title": {
           "x": 0.05
          },
          "xaxis": {
           "automargin": true,
           "gridcolor": "white",
           "linecolor": "white",
           "ticks": "",
           "title": {
            "standoff": 15
           },
           "zerolinecolor": "white",
           "zerolinewidth": 2
          },
          "yaxis": {
           "automargin": true,
           "gridcolor": "white",
           "linecolor": "white",
           "ticks": "",
           "title": {
            "standoff": 15
           },
           "zerolinecolor": "white",
           "zerolinewidth": 2
          }
         }
        },
        "xaxis": {
         "anchor": "y",
         "domain": [
          0,
          1
         ],
         "title": {
          "text": "x"
         }
        },
        "yaxis": {
         "anchor": "x",
         "domain": [
          0,
          1
         ],
         "title": {
          "text": "y"
         }
        }
       }
      },
      "text/html": [
       "<div>                            <div id=\"55d16f65-bfc1-429a-9ce7-c44c1928f10d\" class=\"plotly-graph-div\" style=\"height:525px; width:100%;\"></div>            <script type=\"text/javascript\">                require([\"plotly\"], function(Plotly) {                    window.PLOTLYENV=window.PLOTLYENV || {};                                    if (document.getElementById(\"55d16f65-bfc1-429a-9ce7-c44c1928f10d\")) {                    Plotly.newPlot(                        \"55d16f65-bfc1-429a-9ce7-c44c1928f10d\",                        [{\"hovertemplate\": \"DISTRICT=midland<br>x=%{x}<br>y=%{y}<extra></extra>\", \"legendgroup\": \"midland\", \"marker\": {\"color\": \"#636efa\", \"symbol\": \"circle\"}, \"mode\": \"markers\", \"name\": \"midland\", \"orientation\": \"v\", \"showlegend\": true, \"type\": \"scatter\", \"x\": [1.1964390277862549, -1.687856674194336, -3.763245105743408, 2.9871840476989746, 1.0353724956512451], \"xaxis\": \"x\", \"y\": [6.953573703765869, -2.1702561378479004, 0.25283679366111755, -1.841294765472412, -3.1536495685577393], \"yaxis\": \"y\"}, {\"hovertemplate\": \"DISTRICT=spey<br>x=%{x}<br>y=%{y}<extra></extra>\", \"legendgroup\": \"spey\", \"marker\": {\"color\": \"#EF553B\", \"symbol\": \"circle\"}, \"mode\": \"markers\", \"name\": \"spey\", \"orientation\": \"v\", \"showlegend\": true, \"type\": \"scatter\", \"x\": [5.937198162078857, 3.2316908836364746, -1.407874345779419, 1.1843544244766235, -0.5027549862861633, -0.1671239137649536, -1.1037564277648926, -1.471657156944275, -3.2711472511291504, 2.826693534851074, -1.1526453495025635, -1.870474934577942, 0.5881524085998535, 3.2349884510040283, 1.2304328680038452, 0.9734532833099365, 2.2607405185699463, 3.85960054397583, -1.8462072610855103, 0.4582565128803253, 0.9958310723304749, 2.2247698307037354, 1.6001073122024536, -0.8138777613639832, 2.509852647781372, 3.287461996078491, -0.36586466431617737, 2.482468366622925, -1.8465577363967896, -0.47102487087249756, 2.0491647720336914, 3.7968428134918213, 3.0566792488098145, 3.0843212604522705, -0.7086063027381897, -0.3599669635295868, -2.699293851852417, -1.3068302869796753, 3.3190789222717285, -1.7002359628677368, 1.1659821271896362, -4.877797603607178, 1.1253694295883179, 2.046572208404541, 0.40842169523239136, 4.005340099334717, 4.3910980224609375, 0.3298587501049042, 3.615933418273926, 4.656342029571533, 0.8856595754623413, 4.886336326599121, 1.2122876644134521, -0.0025163947138935328, 1.0181589126586914, 0.6814975142478943, -3.077637195587158], \"xaxis\": \"x\", \"y\": [0.6414504647254944, -0.17072606086730957, -2.8592302799224854, -0.690712571144104, 1.8751232624053955, 1.279852271080017, 1.3899633884429932, 2.1438374519348145, 3.1292102336883545, 1.9146469831466675, 1.2311506271362305, 0.8952582478523254, -4.7576422691345215, 1.4622973203659058, -2.071542501449585, 0.972078263759613, 1.1404047012329102, 2.39335298538208, -5.471407413482666, 2.425802707672119, 3.0025060176849365, -1.7750426530838013, -4.180471897125244, 5.176242828369141, 0.7545880675315857, -3.3997020721435547, 1.0038117170333862, -1.4868046045303345, -1.2954819202423096, -2.4815948009490967, 2.051535129547119, 3.039609670639038, -3.5145046710968018, -4.169771671295166, -0.4116113781929016, -2.5982489585876465, 4.851001262664795, -0.4837990403175354, 4.284283638000488, 3.3528175354003906, 0.0706774890422821, 3.6322314739227295, 1.2604142427444458, 3.012913703918457, -2.9594781398773193, 0.6985461711883545, -0.07868185639381409, -0.9550236463546753, 2.298888683319092, -0.6802737712860107, -4.678934097290039, 0.9849571585655212, 3.035313129425049, -2.0698049068450928, 0.24044644832611084, -1.8376762866973877, 4.962001323699951], \"yaxis\": \"y\"}, {\"hovertemplate\": \"DISTRICT=islay<br>x=%{x}<br>y=%{y}<extra></extra>\", \"legendgroup\": \"islay\", \"marker\": {\"color\": \"#00cc96\", \"symbol\": \"circle\"}, \"mode\": \"markers\", \"name\": \"islay\", \"orientation\": \"v\", \"showlegend\": true, \"type\": \"scatter\", \"x\": [-4.601154804229736, -4.769672870635986, -3.392010450363159, -3.7214159965515137, -4.493948459625244, -6.377598285675049, -5.830526828765869], \"xaxis\": \"x\", \"y\": [-1.568430781364441, -1.5736095905303955, -1.9800419807434082, -2.2150990962982178, -0.7454447746276855, -1.5912641286849976, -2.668684244155884], \"yaxis\": \"y\"}, {\"hovertemplate\": \"DISTRICT=lowland<br>x=%{x}<br>y=%{y}<extra></extra>\", \"legendgroup\": \"lowland\", \"marker\": {\"color\": \"#ab63fa\", \"symbol\": \"circle\"}, \"mode\": \"markers\", \"name\": \"lowland\", \"orientation\": \"v\", \"showlegend\": true, \"type\": \"scatter\", \"x\": [-0.9778494238853455, -6.011740207672119, -0.580607533454895, -6.026439189910889, 1.0820120573043823, 2.540994644165039, 0.9880832433700562, -0.7547435760498047, -0.4279305636882782], \"xaxis\": \"x\", \"y\": [-4.03699254989624, 0.7187623977661133, 6.442015171051025, 0.7565092444419861, 5.72559928894043, 4.695494651794434, 5.621944904327393, -1.7147679328918457, 3.564814329147339], \"yaxis\": \"y\"}, {\"hovertemplate\": \"DISTRICT=north<br>x=%{x}<br>y=%{y}<extra></extra>\", \"legendgroup\": \"north\", \"marker\": {\"color\": \"#FFA15A\", \"symbol\": \"circle\"}, \"mode\": \"markers\", \"name\": \"north\", \"orientation\": \"v\", \"showlegend\": true, \"type\": \"scatter\", \"x\": [-2.118377685546875, -3.3276679515838623, 4.192645072937012, -3.5461654663085938, -2.270336627960205, -4.164999008178711, -1.600878119468689], \"xaxis\": \"x\", \"y\": [-3.061195135116577, -4.324978351593018, -2.125180721282959, -3.8137128353118896, 5.623687744140625, -3.315739870071411, 3.302243232727051], \"yaxis\": \"y\"}, {\"hovertemplate\": \"DISTRICT=west<br>x=%{x}<br>y=%{y}<extra></extra>\", \"legendgroup\": \"west\", \"marker\": {\"color\": \"#19d3f3\", \"symbol\": \"circle\"}, \"mode\": \"markers\", \"name\": \"west\", \"orientation\": \"v\", \"showlegend\": true, \"type\": \"scatter\", \"x\": [-0.4407654106616974, -0.7947818040847778, -4.421219825744629, -0.1504288613796234, 5.135617733001709], \"xaxis\": \"x\", \"y\": [-4.324787139892578, 4.966278076171875, 2.093404531478882, -5.547956943511963, -3.6130805015563965], \"yaxis\": \"y\"}, {\"hovertemplate\": \"DISTRICT=mainland<br>x=%{x}<br>y=%{y}<extra></extra>\", \"legendgroup\": \"mainland\", \"marker\": {\"color\": \"#FF6692\", \"symbol\": \"circle\"}, \"mode\": \"markers\", \"name\": \"mainland\", \"orientation\": \"v\", \"showlegend\": true, \"type\": \"scatter\", \"x\": [2.903810739517212], \"xaxis\": \"x\", \"y\": [5.991585731506348], \"yaxis\": \"y\"}, {\"hovertemplate\": \"DISTRICT=east<br>x=%{x}<br>y=%{y}<extra></extra>\", \"legendgroup\": \"east\", \"marker\": {\"color\": \"#B6E880\", \"symbol\": \"circle\"}, \"mode\": \"markers\", \"name\": \"east\", \"orientation\": \"v\", \"showlegend\": true, \"type\": \"scatter\", \"x\": [-1.8955626487731934, -3.5233147144317627, 0.2973860204219818, -2.5760059356689453, 5.856387615203857, -2.5892953872680664, -2.682682752609253, 5.534019470214844, -0.6388442516326904, 5.2207417488098145], \"xaxis\": \"x\", \"y\": [-0.8586612939834595, 0.15417250990867615, 4.23187780380249, 1.7604427337646484, -1.1361665725708008, 2.6716911792755127, 1.6999602317810059, -1.0195032358169556, 3.445150375366211, 4.561187267303467], \"yaxis\": \"y\"}, {\"hovertemplate\": \"DISTRICT=campbell<br>x=%{x}<br>y=%{y}<extra></extra>\", \"legendgroup\": \"campbell\", \"marker\": {\"color\": \"#FF97FF\", \"symbol\": \"circle\"}, \"mode\": \"markers\", \"name\": \"campbell\", \"orientation\": \"v\", \"showlegend\": true, \"type\": \"scatter\", \"x\": [-5.565891265869141, -5.681069850921631, -5.9535040855407715], \"xaxis\": \"x\", \"y\": [-4.315311908721924, -4.654380798339844, -1.3466094732284546], \"yaxis\": \"y\"}, {\"hovertemplate\": \"DISTRICT=islands<br>x=%{x}<br>y=%{y}<extra></extra>\", \"legendgroup\": \"islands\", \"marker\": {\"color\": \"#FECB52\", \"symbol\": \"circle\"}, \"mode\": \"markers\", \"name\": \"islands\", \"orientation\": \"v\", \"showlegend\": true, \"type\": \"scatter\", \"x\": [2.2122700214385986, 1.4400384426116943, -5.744322299957275, 5.206760883331299, -0.40800952911376953], \"xaxis\": \"x\", \"y\": [-0.03676633536815643, 4.127336025238037, -2.982848644256592, 2.473041534423828, -0.1538413166999817], \"yaxis\": \"y\"}],                        {\"legend\": {\"title\": {\"text\": \"DISTRICT\"}, \"tracegroupgap\": 0}, \"margin\": {\"t\": 60}, \"template\": {\"data\": {\"bar\": [{\"error_x\": {\"color\": \"#2a3f5f\"}, \"error_y\": {\"color\": \"#2a3f5f\"}, \"marker\": {\"line\": {\"color\": \"#E5ECF6\", \"width\": 0.5}}, \"type\": \"bar\"}], \"barpolar\": [{\"marker\": {\"line\": {\"color\": \"#E5ECF6\", \"width\": 0.5}}, \"type\": \"barpolar\"}], \"carpet\": [{\"aaxis\": {\"endlinecolor\": \"#2a3f5f\", \"gridcolor\": \"white\", \"linecolor\": \"white\", \"minorgridcolor\": \"white\", \"startlinecolor\": \"#2a3f5f\"}, \"baxis\": {\"endlinecolor\": \"#2a3f5f\", \"gridcolor\": \"white\", \"linecolor\": \"white\", \"minorgridcolor\": \"white\", \"startlinecolor\": \"#2a3f5f\"}, \"type\": \"carpet\"}], \"choropleth\": [{\"colorbar\": {\"outlinewidth\": 0, \"ticks\": \"\"}, \"type\": \"choropleth\"}], \"contour\": [{\"colorbar\": {\"outlinewidth\": 0, \"ticks\": \"\"}, \"colorscale\": [[0.0, \"#0d0887\"], [0.1111111111111111, \"#46039f\"], [0.2222222222222222, \"#7201a8\"], [0.3333333333333333, \"#9c179e\"], [0.4444444444444444, \"#bd3786\"], [0.5555555555555556, \"#d8576b\"], [0.6666666666666666, \"#ed7953\"], [0.7777777777777778, \"#fb9f3a\"], [0.8888888888888888, \"#fdca26\"], [1.0, \"#f0f921\"]], \"type\": \"contour\"}], \"contourcarpet\": [{\"colorbar\": {\"outlinewidth\": 0, \"ticks\": \"\"}, \"type\": \"contourcarpet\"}], \"heatmap\": [{\"colorbar\": {\"outlinewidth\": 0, \"ticks\": \"\"}, \"colorscale\": [[0.0, \"#0d0887\"], [0.1111111111111111, \"#46039f\"], [0.2222222222222222, \"#7201a8\"], [0.3333333333333333, \"#9c179e\"], [0.4444444444444444, \"#bd3786\"], [0.5555555555555556, \"#d8576b\"], [0.6666666666666666, \"#ed7953\"], [0.7777777777777778, \"#fb9f3a\"], [0.8888888888888888, \"#fdca26\"], [1.0, \"#f0f921\"]], \"type\": \"heatmap\"}], \"heatmapgl\": [{\"colorbar\": {\"outlinewidth\": 0, \"ticks\": \"\"}, \"colorscale\": [[0.0, \"#0d0887\"], [0.1111111111111111, \"#46039f\"], [0.2222222222222222, \"#7201a8\"], [0.3333333333333333, \"#9c179e\"], [0.4444444444444444, \"#bd3786\"], [0.5555555555555556, \"#d8576b\"], [0.6666666666666666, \"#ed7953\"], [0.7777777777777778, \"#fb9f3a\"], [0.8888888888888888, \"#fdca26\"], [1.0, \"#f0f921\"]], \"type\": \"heatmapgl\"}], \"histogram\": [{\"marker\": {\"colorbar\": {\"outlinewidth\": 0, \"ticks\": \"\"}}, \"type\": \"histogram\"}], \"histogram2d\": [{\"colorbar\": {\"outlinewidth\": 0, \"ticks\": \"\"}, \"colorscale\": [[0.0, \"#0d0887\"], [0.1111111111111111, \"#46039f\"], [0.2222222222222222, \"#7201a8\"], [0.3333333333333333, \"#9c179e\"], [0.4444444444444444, \"#bd3786\"], [0.5555555555555556, \"#d8576b\"], [0.6666666666666666, \"#ed7953\"], [0.7777777777777778, \"#fb9f3a\"], [0.8888888888888888, \"#fdca26\"], [1.0, \"#f0f921\"]], \"type\": \"histogram2d\"}], \"histogram2dcontour\": [{\"colorbar\": {\"outlinewidth\": 0, \"ticks\": \"\"}, \"colorscale\": [[0.0, \"#0d0887\"], [0.1111111111111111, \"#46039f\"], [0.2222222222222222, \"#7201a8\"], [0.3333333333333333, \"#9c179e\"], [0.4444444444444444, \"#bd3786\"], [0.5555555555555556, \"#d8576b\"], [0.6666666666666666, \"#ed7953\"], [0.7777777777777778, \"#fb9f3a\"], [0.8888888888888888, \"#fdca26\"], [1.0, \"#f0f921\"]], \"type\": \"histogram2dcontour\"}], \"mesh3d\": [{\"colorbar\": {\"outlinewidth\": 0, \"ticks\": \"\"}, \"type\": \"mesh3d\"}], \"parcoords\": [{\"line\": {\"colorbar\": {\"outlinewidth\": 0, \"ticks\": \"\"}}, \"type\": \"parcoords\"}], \"pie\": [{\"automargin\": true, \"type\": \"pie\"}], \"scatter\": [{\"marker\": {\"colorbar\": {\"outlinewidth\": 0, \"ticks\": \"\"}}, \"type\": \"scatter\"}], \"scatter3d\": [{\"line\": {\"colorbar\": {\"outlinewidth\": 0, \"ticks\": \"\"}}, \"marker\": {\"colorbar\": {\"outlinewidth\": 0, \"ticks\": \"\"}}, \"type\": \"scatter3d\"}], \"scattercarpet\": [{\"marker\": {\"colorbar\": {\"outlinewidth\": 0, \"ticks\": \"\"}}, \"type\": \"scattercarpet\"}], \"scattergeo\": [{\"marker\": {\"colorbar\": {\"outlinewidth\": 0, \"ticks\": \"\"}}, \"type\": \"scattergeo\"}], \"scattergl\": [{\"marker\": {\"colorbar\": {\"outlinewidth\": 0, \"ticks\": \"\"}}, \"type\": \"scattergl\"}], \"scattermapbox\": [{\"marker\": {\"colorbar\": {\"outlinewidth\": 0, \"ticks\": \"\"}}, \"type\": \"scattermapbox\"}], \"scatterpolar\": [{\"marker\": {\"colorbar\": {\"outlinewidth\": 0, \"ticks\": \"\"}}, \"type\": \"scatterpolar\"}], \"scatterpolargl\": [{\"marker\": {\"colorbar\": {\"outlinewidth\": 0, \"ticks\": \"\"}}, \"type\": \"scatterpolargl\"}], \"scatterternary\": [{\"marker\": {\"colorbar\": {\"outlinewidth\": 0, \"ticks\": \"\"}}, \"type\": \"scatterternary\"}], \"surface\": [{\"colorbar\": {\"outlinewidth\": 0, \"ticks\": \"\"}, \"colorscale\": [[0.0, \"#0d0887\"], [0.1111111111111111, \"#46039f\"], [0.2222222222222222, \"#7201a8\"], [0.3333333333333333, \"#9c179e\"], [0.4444444444444444, \"#bd3786\"], [0.5555555555555556, \"#d8576b\"], [0.6666666666666666, \"#ed7953\"], [0.7777777777777778, \"#fb9f3a\"], [0.8888888888888888, \"#fdca26\"], [1.0, \"#f0f921\"]], \"type\": \"surface\"}], \"table\": [{\"cells\": {\"fill\": {\"color\": \"#EBF0F8\"}, \"line\": {\"color\": \"white\"}}, \"header\": {\"fill\": {\"color\": \"#C8D4E3\"}, \"line\": {\"color\": \"white\"}}, \"type\": \"table\"}]}, \"layout\": {\"annotationdefaults\": {\"arrowcolor\": \"#2a3f5f\", \"arrowhead\": 0, \"arrowwidth\": 1}, \"autotypenumbers\": \"strict\", \"coloraxis\": {\"colorbar\": {\"outlinewidth\": 0, \"ticks\": \"\"}}, \"colorscale\": {\"diverging\": [[0, \"#8e0152\"], [0.1, \"#c51b7d\"], [0.2, \"#de77ae\"], [0.3, \"#f1b6da\"], [0.4, \"#fde0ef\"], [0.5, \"#f7f7f7\"], [0.6, \"#e6f5d0\"], [0.7, \"#b8e186\"], [0.8, \"#7fbc41\"], [0.9, \"#4d9221\"], [1, \"#276419\"]], \"sequential\": [[0.0, \"#0d0887\"], [0.1111111111111111, \"#46039f\"], [0.2222222222222222, \"#7201a8\"], [0.3333333333333333, \"#9c179e\"], [0.4444444444444444, \"#bd3786\"], [0.5555555555555556, \"#d8576b\"], [0.6666666666666666, \"#ed7953\"], [0.7777777777777778, \"#fb9f3a\"], [0.8888888888888888, \"#fdca26\"], [1.0, \"#f0f921\"]], \"sequentialminus\": [[0.0, \"#0d0887\"], [0.1111111111111111, \"#46039f\"], [0.2222222222222222, \"#7201a8\"], [0.3333333333333333, \"#9c179e\"], [0.4444444444444444, \"#bd3786\"], [0.5555555555555556, \"#d8576b\"], [0.6666666666666666, \"#ed7953\"], [0.7777777777777778, \"#fb9f3a\"], [0.8888888888888888, \"#fdca26\"], [1.0, \"#f0f921\"]]}, \"colorway\": [\"#636efa\", \"#EF553B\", \"#00cc96\", \"#ab63fa\", \"#FFA15A\", \"#19d3f3\", \"#FF6692\", \"#B6E880\", \"#FF97FF\", \"#FECB52\"], \"font\": {\"color\": \"#2a3f5f\"}, \"geo\": {\"bgcolor\": \"white\", \"lakecolor\": \"white\", \"landcolor\": \"#E5ECF6\", \"showlakes\": true, \"showland\": true, \"subunitcolor\": \"white\"}, \"hoverlabel\": {\"align\": \"left\"}, \"hovermode\": \"closest\", \"mapbox\": {\"style\": \"light\"}, \"paper_bgcolor\": \"white\", \"plot_bgcolor\": \"#E5ECF6\", \"polar\": {\"angularaxis\": {\"gridcolor\": \"white\", \"linecolor\": \"white\", \"ticks\": \"\"}, \"bgcolor\": \"#E5ECF6\", \"radialaxis\": {\"gridcolor\": \"white\", \"linecolor\": \"white\", \"ticks\": \"\"}}, \"scene\": {\"xaxis\": {\"backgroundcolor\": \"#E5ECF6\", \"gridcolor\": \"white\", \"gridwidth\": 2, \"linecolor\": \"white\", \"showbackground\": true, \"ticks\": \"\", \"zerolinecolor\": \"white\"}, \"yaxis\": {\"backgroundcolor\": \"#E5ECF6\", \"gridcolor\": \"white\", \"gridwidth\": 2, \"linecolor\": \"white\", \"showbackground\": true, \"ticks\": \"\", \"zerolinecolor\": \"white\"}, \"zaxis\": {\"backgroundcolor\": \"#E5ECF6\", \"gridcolor\": \"white\", \"gridwidth\": 2, \"linecolor\": \"white\", \"showbackground\": true, \"ticks\": \"\", \"zerolinecolor\": \"white\"}}, \"shapedefaults\": {\"line\": {\"color\": \"#2a3f5f\"}}, \"ternary\": {\"aaxis\": {\"gridcolor\": \"white\", \"linecolor\": \"white\", \"ticks\": \"\"}, \"baxis\": {\"gridcolor\": \"white\", \"linecolor\": \"white\", \"ticks\": \"\"}, \"bgcolor\": \"#E5ECF6\", \"caxis\": {\"gridcolor\": \"white\", \"linecolor\": \"white\", \"ticks\": \"\"}}, \"title\": {\"x\": 0.05}, \"xaxis\": {\"automargin\": true, \"gridcolor\": \"white\", \"linecolor\": \"white\", \"ticks\": \"\", \"title\": {\"standoff\": 15}, \"zerolinecolor\": \"white\", \"zerolinewidth\": 2}, \"yaxis\": {\"automargin\": true, \"gridcolor\": \"white\", \"linecolor\": \"white\", \"ticks\": \"\", \"title\": {\"standoff\": 15}, \"zerolinecolor\": \"white\", \"zerolinewidth\": 2}}}, \"xaxis\": {\"anchor\": \"y\", \"domain\": [0.0, 1.0], \"title\": {\"text\": \"x\"}}, \"yaxis\": {\"anchor\": \"x\", \"domain\": [0.0, 1.0], \"title\": {\"text\": \"y\"}}},                        {\"responsive\": true}                    ).then(function(){\n",
       "                            \n",
       "var gd = document.getElementById('55d16f65-bfc1-429a-9ce7-c44c1928f10d');\n",
       "var x = new MutationObserver(function (mutations, observer) {{\n",
       "        var display = window.getComputedStyle(gd).display;\n",
       "        if (!display || display === 'none') {{\n",
       "            console.log([gd, 'removed!']);\n",
       "            Plotly.purge(gd);\n",
       "            observer.disconnect();\n",
       "        }}\n",
       "}});\n",
       "\n",
       "// Listen for the removal of the full notebook cells\n",
       "var notebookContainer = gd.closest('#notebook-container');\n",
       "if (notebookContainer) {{\n",
       "    x.observe(notebookContainer, {childList: true});\n",
       "}}\n",
       "\n",
       "// Listen for the clearing of the current output cell\n",
       "var outputEl = gd.closest('.output');\n",
       "if (outputEl) {{\n",
       "    x.observe(outputEl, {childList: true});\n",
       "}}\n",
       "\n",
       "                        })                };                });            </script>        </div>"
      ]
     },
     "metadata": {},
     "output_type": "display_data"
    }
   ],
   "source": [
    "#4.What factors impact results the most?\n",
    "#The region of origin was found to be a factor for grouping whiskies of similar characteristics. \n",
    " \n",
    "import plotly.express as px\n",
    "fig = px.scatter(df, x=\"x\", y=\"y\",color=\"DISTRICT\")\n",
    "fig.show()"
   ]
  },
  {
   "cell_type": "code",
   "execution_count": 343,
   "metadata": {},
   "outputs": [
    {
     "data": {
      "image/png": "[encoded data removed]",
      "text/plain": [
       "<Figure size 432x288 with 1 Axes>"
      ]
     },
     "metadata": {
      "needs_background": "light"
     },
     "output_type": "display_data"
    },
    {
     "data": {
      "image/png": "[encoded data removed]",
      "text/plain": [
       "<Figure size 432x288 with 1 Axes>"
      ]
     },
     "metadata": {
      "needs_background": "light"
     },
     "output_type": "display_data"
    }
   ],
   "source": [
    "#This was especially pronounced for some smaller regions such as Islay or Campbell\n",
    "import seaborn as sns\n",
    "import matplotlib.pyplot as plt\n",
    "sns.scatterplot(x=\"x\", y=\"y\", hue='DISTRICT-islay',data=df)\n",
    "plt.show()\n",
    "sns.scatterplot(x=\"x\", y=\"y\", hue='DISTRICT-campbell',data=df)\n",
    "plt.show()"
   ]
  },
  {
   "cell_type": "code",
   "execution_count": 340,
   "metadata": {},
   "outputs": [
    {
     "data": {
      "image/png": "[encoded data removed]",
      "text/plain": [
       "<Figure size 432x288 with 1 Axes>"
      ]
     },
     "metadata": {
      "needs_background": "light"
     },
     "output_type": "display_data"
    }
   ],
   "source": [
    "#Or even the biggest group of whiskies originating in Spey\n",
    "sns.scatterplot(x=\"x\", y=\"y\", hue='DISTRICT-spey',data=df)\n",
    "plt.show()"
   ]
  },
  {
   "cell_type": "code",
   "execution_count": 341,
   "metadata": {},
   "outputs": [
    {
     "data": {
      "image/png": "[encoded data removed]",
      "text/plain": [
       "<Figure size 432x288 with 1 Axes>"
      ]
     },
     "metadata": {
      "needs_background": "light"
     },
     "output_type": "display_data"
    }
   ],
   "source": [
    "#It generally confirms a well-known opinion that the region of origin is a good indicator of taste characteristics, but there are also some interesting variations, such as for whiskies classified into “east” region.\n",
    "sns.scatterplot(x=\"x\", y=\"y\", hue='DISTRICT-east',data=df)\n",
    "plt.show()"
   ]
  }
 ],
 "metadata": {
  "kernelspec": {
   "display_name": "Python 3",
   "language": "python",
   "name": "python3"
  },
  "language_info": {
   "codemirror_mode": {
    "name": "ipython",
    "version": 3
   },
   "file_extension": ".py",
   "mimetype": "text/x-python",
   "name": "python",
   "nbconvert_exporter": "python",
   "pygments_lexer": "ipython3",
   "version": "3.8.5"
  }
 },
 "nbformat": 4,
 "nbformat_minor": 4
}
